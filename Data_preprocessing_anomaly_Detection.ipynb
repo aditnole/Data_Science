{
 "cells": [
  {
   "cell_type": "code",
   "execution_count": 1,
   "metadata": {
    "init_cell": true
   },
   "outputs": [],
   "source": [
    "%logstop\n",
    "%logstart -rtq ~/.logs/dw.py append\n",
    "%matplotlib inline\n",
    "import matplotlib\n",
    "import seaborn as sns\n",
    "sns.set()\n",
    "matplotlib.rcParams['figure.dpi'] = 144"
   ]
  },
  {
   "cell_type": "code",
   "execution_count": 2,
   "metadata": {},
   "outputs": [],
   "source": [
    "from static_grader import grader"
   ]
  },
  {
   "cell_type": "markdown",
   "metadata": {},
   "source": [
    "# DW Miniproject\n",
    "## Introduction\n",
    "\n",
    "The objective of this miniproject is to exercise your ability to wrangle tabular data set and aggregate large data sets into meaningful summary statistics. We'll work with the same medical data used in the `pw` miniproject but leverage the power of Pandas to more efficiently represent and act on our data."
   ]
  },
  {
   "cell_type": "markdown",
   "metadata": {},
   "source": [
    "## Downloading the data\n",
    "\n",
    "We first need to download the data we'll be using from Amazon S3:"
   ]
  },
  {
   "cell_type": "code",
   "execution_count": 3,
   "metadata": {},
   "outputs": [
    {
     "name": "stdout",
     "output_type": "stream",
     "text": [
      "mkdir: cannot create directory ‘dw-data’: File exists\n",
      "File ‘./dw-data/201701scripts_sample.csv.gz’ already there; not retrieving.\n",
      "\n",
      "File ‘./dw-data/201606scripts_sample.csv.gz’ already there; not retrieving.\n",
      "\n",
      "File ‘./dw-data/practices.csv.gz’ already there; not retrieving.\n",
      "\n",
      "File ‘./dw-data/chem.csv.gz’ already there; not retrieving.\n",
      "\n"
     ]
    }
   ],
   "source": [
    "!mkdir dw-data\n",
    "!wget http://dataincubator-wqu.s3.amazonaws.com/dwdata/201701scripts_sample.csv.gz -nc -P ./dw-data/\n",
    "!wget http://dataincubator-wqu.s3.amazonaws.com/dwdata/201606scripts_sample.csv.gz -nc -P ./dw-data/\n",
    "!wget http://dataincubator-wqu.s3.amazonaws.com/dwdata/practices.csv.gz -nc -P ./dw-data/\n",
    "!wget http://dataincubator-wqu.s3.amazonaws.com/dwdata/chem.csv.gz -nc -P ./dw-data/"
   ]
  },
  {
   "cell_type": "markdown",
   "metadata": {},
   "source": [
    "## Loading the data\n",
    "\n",
    "Similar to the `PW` miniproject, the first step is to read in the data. The data files are stored as compressed CSV files. You can load the data into a Pandas DataFrame by making use of the `gzip` package to decompress the files and Panda's `read_csv` methods to parse the data into a DataFrame. You may want to check the Pandas documentation for parsing [CSV](http://pandas.pydata.org/pandas-docs/stable/generated/pandas.read_csv.html) files for reference.\n",
    "\n",
    "For a description of the data set please, refer to the [PW miniproject](./pw.ipynb). **Note that all questions make use of the 2017 data only, except for Question 5 which makes use of both the 2017 and 2016 data.**"
   ]
  },
  {
   "cell_type": "code",
   "execution_count": 4,
   "metadata": {},
   "outputs": [
    {
     "data": {
      "text/plain": [
       "['.ipynb_checkpoints',\n",
       " 'in.ipynb',\n",
       " 'dw-data',\n",
       " 'dw.ipynb',\n",
       " 'pw.ipynb',\n",
       " 'pw-data']"
      ]
     },
     "execution_count": 4,
     "metadata": {},
     "output_type": "execute_result"
    }
   ],
   "source": [
    "import pandas as pd\n",
    "import numpy as np\n",
    "import gzip\n",
    "import os\n",
    "os.listdir()"
   ]
  },
  {
   "cell_type": "code",
   "execution_count": 5,
   "metadata": {},
   "outputs": [],
   "source": [
    "import gzip\n",
    "with gzip.open('./dw-data/201701scripts_sample.csv.gz', 'rb') as f:\n",
    "    file_content = f.read()\n",
    "    \n"
   ]
  },
  {
   "cell_type": "code",
   "execution_count": 6,
   "metadata": {},
   "outputs": [],
   "source": [
    "# load the 2017 data\n",
    "\n",
    "scripts = pd.read_csv('./dw-data/201701scripts_sample.csv.gz', compression='gzip')\n",
    "scripts.head()"
   ]
  },
  {
   "cell_type": "code",
   "execution_count": 7,
   "metadata": {},
   "outputs": [],
   "source": [
    "col_names=[ 'code', 'name', 'addr_1', 'addr_2', 'borough', 'village', 'post_code']\n",
    "practices = pd.read_csv('./dw-data/practices.csv.gz', compression='gzip')\n",
    "practices.columns = col_names\n",
    "practices.head()"
   ]
  },
  {
   "cell_type": "code",
   "execution_count": 8,
   "metadata": {},
   "outputs": [],
   "source": [
    "chem = pd.read_csv('./dw-data/chem.csv.gz', compression='gzip')\n",
    "chem.head()\n"
   ]
  },
  {
   "cell_type": "markdown",
   "metadata": {},
   "source": [
    "Now that we've loaded in the data, let's first replicate our results from the `PW` miniproject. Note that we are now working with a larger data set so the answers will be different than in the `PW` miniproject even if the analysis is the same."
   ]
  },
  {
   "cell_type": "markdown",
   "metadata": {},
   "source": [
    "## Question 1: summary_statistics\n",
    "\n",
    "In the `PW` miniproject we first calculated the total, mean, standard deviation, and quartile statistics of the `'items'`, `'quantity'`', `'nic'`, and `'act_cost'` fields. To do this we had to write some functions to calculate the statistics and apply the functions to our data structure. The DataFrame has a `describe` method that will calculate most (not all) of these things for us.\n",
    "\n",
    "Submit the summary statistics to the grader as a list of tuples: [('act_cost', (total, mean, std, q25, median, q75)), ...]"
   ]
  },
  {
   "cell_type": "code",
   "execution_count": 9,
   "metadata": {},
   "outputs": [
    {
     "name": "stdout",
     "output_type": "stream",
     "text": [
      "8888304\n"
     ]
    }
   ],
   "source": [
    "clist = ['items', 'quantity', 'nic', 'act_cost']\n",
    "scripts[clist[1]].describe()\n",
    "scripts['items']\n",
    "\n",
    "data = scripts['items']\n",
    "ctotal = sum(data)\n",
    "print(ctotal)\n"
   ]
  },
  {
   "cell_type": "code",
   "execution_count": 10,
   "metadata": {},
   "outputs": [
    {
     "data": {
      "text/plain": [
       "count    973193.000000\n",
       "mean        741.329835\n",
       "std        3665.426958\n",
       "min           0.000000\n",
       "25%          28.000000\n",
       "50%         100.000000\n",
       "75%         350.000000\n",
       "max      577720.000000\n",
       "Name: quantity, dtype: float64"
      ]
     },
     "execution_count": 10,
     "metadata": {},
     "output_type": "execute_result"
    }
   ],
   "source": [
    "scripts[clist[1]].describe()"
   ]
  },
  {
   "cell_type": "code",
   "execution_count": null,
   "metadata": {},
   "outputs": [],
   "source": []
  },
  {
   "cell_type": "code",
   "execution_count": 11,
   "metadata": {},
   "outputs": [
    {
     "data": {
      "text/plain": [
       "[('items', (8888304, 9.133135976111625, 29.204198282803603, 1.0, 2.0, 6.0)),\n",
       " ('quantity',\n",
       "  (721457006, 741.3298348837282, 3665.426958467915, 28.0, 100.0, 350.0)),\n",
       " ('nic',\n",
       "  (71100424.84000827, 73.05891517920908, 188.070256906825, 7.8, 22.64, 65.0)),\n",
       " ('act_cost',\n",
       "  (66164096.11999956,\n",
       "   67.98661326170655,\n",
       "   174.40170332301963,\n",
       "   7.33,\n",
       "   21.22,\n",
       "   60.67))]"
      ]
     },
     "execution_count": 11,
     "metadata": {},
     "output_type": "execute_result"
    }
   ],
   "source": [
    "scripts['items'].describe()\n",
    "\n",
    "newlist= []\n",
    "summary_stats = []\n",
    "for item in clist:\n",
    "    data = scripts[item]\n",
    "    ctotal = sum(data)\n",
    "    #ctotal = scripts[item].describe()[0]\n",
    "    cmean = scripts[item].describe()[1]\n",
    "    cstd = scripts[item].describe()[2]\n",
    "    cq25 = scripts[item].describe()[4]\n",
    "    cmedian = scripts[item].describe()[5]\n",
    "    cq75 = scripts[item].describe()[6]\n",
    "    innertupple = tuple([ctotal, cmean, cstd, cq25, cmedian, cq75 ])\n",
    "    newlist = tuple([item, innertupple ])\n",
    "    summary_stats.append(newlist)\n",
    "    \n",
    "summary_stats\n",
    "#for item im scripts."
   ]
  },
  {
   "cell_type": "code",
   "execution_count": 12,
   "metadata": {},
   "outputs": [],
   "source": [
    "#summary_stats = [('items', (0,) * 6), ('quantity', (0,) * 6), ('nic', (0,) * 6), ('act_cost', (0,) * 6)]"
   ]
  },
  {
   "cell_type": "code",
   "execution_count": 13,
   "metadata": {},
   "outputs": [
    {
     "name": "stdout",
     "output_type": "stream",
     "text": [
      "==================\n",
      "Your score:  1.0\n",
      "==================\n"
     ]
    }
   ],
   "source": [
    "grader.score.dw__summary_statistics(summary_stats)"
   ]
  },
  {
   "cell_type": "markdown",
   "metadata": {},
   "source": [
    "## Question 2: most_common_item\n",
    "\n",
    "We can also easily compute summary statistics on groups within the data. In the `pw` miniproject we had to explicitly construct the groups based on the values of a particular field. Pandas will handle that for us via the `groupby` method. This process is [detailed in the Pandas documentation](https://pandas.pydata.org/pandas-docs/stable/groupby.html).\n",
    "\n",
    "Use `groupby` to calculate the total number of items dispensed for each `'bnf_name'`. Find the item with the highest total and return the result as `[(bnf_name, total)]`."
   ]
  },
  {
   "cell_type": "code",
   "execution_count": 14,
   "metadata": {},
   "outputs": [
    {
     "data": {
      "text/plain": [
       "[('Omeprazole_Cap E/C 20mg', 218583)]"
      ]
     },
     "execution_count": 14,
     "metadata": {},
     "output_type": "execute_result"
    }
   ],
   "source": [
    "by_bnfname = scripts.groupby('bnf_name')['items'].sum()\n",
    "by_bnfname.head()\n",
    "by_bnfname.nlargest(1)\n",
    "most = []\n",
    "for k,v in by_bnfname.nlargest(1).items():\n",
    "    most.append(tuple([k,v]))\n",
    "    \n",
    "most\n",
    "#a = tuple(by_bnfname.nlargest(1)[0], by_bnfname.nlargest(1)[1])\n",
    "#can also use: In [64]: res = g.apply(lambda x: x.order(ascending=False).head(3))\n",
    "#by_bnfname.sort('items').head()"
   ]
  },
  {
   "cell_type": "code",
   "execution_count": 15,
   "metadata": {},
   "outputs": [],
   "source": [
    "most_common_item = most"
   ]
  },
  {
   "cell_type": "code",
   "execution_count": 16,
   "metadata": {},
   "outputs": [
    {
     "name": "stdout",
     "output_type": "stream",
     "text": [
      "==================\n",
      "Your score:  1.0\n",
      "==================\n"
     ]
    }
   ],
   "source": [
    "grader.score.dw__most_common_item(most_common_item)"
   ]
  },
  {
   "cell_type": "markdown",
   "metadata": {},
   "source": [
    "## Question 3: items_by_region\n",
    "\n",
    "Now let's find the most common item by post code. The post code information is in the `practices` DataFrame, and we'll need to `merge` it into the `scripts` DataFrame. Pandas provides [extensive documentation](https://pandas.pydata.org/pandas-docs/stable/merging.html) with diagrammed examples on different methods and approaches for joining data. The `merge` method is only one of many possible options.\n",
    "\n",
    "Return your results as a list of tuples `(post code, item name, amount dispensed as % of total)`. Sort your results ascending alphabetically by post code and take only results from the first 100 post codes.\n",
    "\n",
    "**NOTE:** Some practices have multiple postal codes associated with them. Use the alphabetically first postal code. Note some postal codes may have multiple `'bnf_name'` with the same prescription rate for the maximum. In this case, take the alphabetically first `'bnf_name'` (as in the PW miniproject)."
   ]
  },
  {
   "cell_type": "markdown",
   "metadata": {},
   "source": [
    "scripts.rename(columns = {'practice':'code'}, inplace = True)\n",
    "merged_df = scripts.merge(practices, on=['code'])\n",
    "#merged_df.head()\n",
    "filtered = merged_df.groupby(['post_code', 'bnf_name'])['items']\n",
    "\n",
    "filter2 = pd.DataFrame({'items' : merged_df.groupby( ['post_code', 'bnf_name'] ).size()}).reset_index()\n",
    "filter3 = filter2.sort_values(by =['post_code', 'bnf_name'])\n",
    "filter3\n",
    "\n",
    "#def postalsum:\n",
    "postallist = filter3['post_code'].unique()\n",
    "\n",
    "print(scripts.head())\n",
    "filter3\n",
    "print(scripts.loc[scripts['bnf_name'].values == 'Bisacodyl_Tab E/C 5mg '])"
   ]
  },
  {
   "cell_type": "code",
   "execution_count": 17,
   "metadata": {},
   "outputs": [
    {
     "data": {
      "text/html": [
       "<div>\n",
       "<style scoped>\n",
       "    .dataframe tbody tr th:only-of-type {\n",
       "        vertical-align: middle;\n",
       "    }\n",
       "\n",
       "    .dataframe tbody tr th {\n",
       "        vertical-align: top;\n",
       "    }\n",
       "\n",
       "    .dataframe thead th {\n",
       "        text-align: right;\n",
       "    }\n",
       "</style>\n",
       "<table border=\"1\" class=\"dataframe\">\n",
       "  <thead>\n",
       "    <tr style=\"text-align: right;\">\n",
       "      <th></th>\n",
       "      <th>post_code</th>\n",
       "      <th>items</th>\n",
       "      <th>bnf_name</th>\n",
       "    </tr>\n",
       "  </thead>\n",
       "  <tbody>\n",
       "    <tr>\n",
       "      <th>0</th>\n",
       "      <td>B11 4BW</td>\n",
       "      <td>706</td>\n",
       "      <td>Salbutamol_Inha 100mcg (200 D) CFF</td>\n",
       "    </tr>\n",
       "    <tr>\n",
       "      <th>1</th>\n",
       "      <td>B12 9LP</td>\n",
       "      <td>425</td>\n",
       "      <td>Paracet_Tab 500mg</td>\n",
       "    </tr>\n",
       "    <tr>\n",
       "      <th>2</th>\n",
       "      <td>B18 7AL</td>\n",
       "      <td>556</td>\n",
       "      <td>Salbutamol_Inha 100mcg (200 D) CFF</td>\n",
       "    </tr>\n",
       "    <tr>\n",
       "      <th>3</th>\n",
       "      <td>B21 9RY</td>\n",
       "      <td>1033</td>\n",
       "      <td>Metformin HCl_Tab 500mg</td>\n",
       "    </tr>\n",
       "    <tr>\n",
       "      <th>4</th>\n",
       "      <td>B23 6DJ</td>\n",
       "      <td>599</td>\n",
       "      <td>Lansoprazole_Cap 30mg (E/C Gran)</td>\n",
       "    </tr>\n",
       "  </tbody>\n",
       "</table>\n",
       "</div>"
      ],
      "text/plain": [
       "  post_code  items                            bnf_name\n",
       "0   B11 4BW    706  Salbutamol_Inha 100mcg (200 D) CFF\n",
       "1   B12 9LP    425                   Paracet_Tab 500mg\n",
       "2   B18 7AL    556  Salbutamol_Inha 100mcg (200 D) CFF\n",
       "3   B21 9RY   1033             Metformin HCl_Tab 500mg\n",
       "4   B23 6DJ    599    Lansoprazole_Cap 30mg (E/C Gran)"
      ]
     },
     "execution_count": 17,
     "metadata": {},
     "output_type": "execute_result"
    }
   ],
   "source": [
    "asrt = practices.sort_values('post_code').drop_duplicates('code', keep = 'first')\n",
    "\n",
    "amerge = scripts.merge(asrt, left_on = 'practice', right_on = 'code')\n",
    "\n",
    "sumitemsbypost = amerge.groupby(['post_code','bnf_name'])[['items']].sum()\n",
    "sumitemsbypost.reset_index(inplace=True)\n",
    "#sumitemsbypost.head()\n",
    "itemsmax = sumitemsbypost.groupby('post_code')[['items']].max()\n",
    "#itemsmax.head()\n",
    "#above code will find the value of item which is max\n",
    "itemsmax.reset_index(inplace=True)\n",
    "totalitems = itemsmax.merge(sumitemsbypost, on = ['post_code', 'items'], how= 'left')\n",
    "#the above code is matching the bnfname corresponding max item\n",
    "totalitems.head()\n",
    "\n"
   ]
  },
  {
   "cell_type": "code",
   "execution_count": 18,
   "metadata": {},
   "outputs": [
    {
     "data": {
      "text/html": [
       "<div>\n",
       "<style scoped>\n",
       "    .dataframe tbody tr th:only-of-type {\n",
       "        vertical-align: middle;\n",
       "    }\n",
       "\n",
       "    .dataframe tbody tr th {\n",
       "        vertical-align: top;\n",
       "    }\n",
       "\n",
       "    .dataframe thead th {\n",
       "        text-align: right;\n",
       "    }\n",
       "</style>\n",
       "<table border=\"1\" class=\"dataframe\">\n",
       "  <thead>\n",
       "    <tr style=\"text-align: right;\">\n",
       "      <th></th>\n",
       "      <th>post_code</th>\n",
       "      <th>items</th>\n",
       "      <th>bnf_name</th>\n",
       "    </tr>\n",
       "  </thead>\n",
       "  <tbody>\n",
       "    <tr>\n",
       "      <th>73</th>\n",
       "      <td>E15 4ES</td>\n",
       "      <td>451</td>\n",
       "      <td>Amlodipine_Tab 10mg</td>\n",
       "    </tr>\n",
       "    <tr>\n",
       "      <th>66</th>\n",
       "      <td>DN16 2AB</td>\n",
       "      <td>1072</td>\n",
       "      <td>Amlodipine_Tab 5mg</td>\n",
       "    </tr>\n",
       "    <tr>\n",
       "      <th>255</th>\n",
       "      <td>WS9 8AJ</td>\n",
       "      <td>396</td>\n",
       "      <td>Amlodipine_Tab 5mg</td>\n",
       "    </tr>\n",
       "    <tr>\n",
       "      <th>142</th>\n",
       "      <td>NG2 7SD</td>\n",
       "      <td>605</td>\n",
       "      <td>Amlodipine_Tab 5mg</td>\n",
       "    </tr>\n",
       "    <tr>\n",
       "      <th>97</th>\n",
       "      <td>KT16 8HZ</td>\n",
       "      <td>401</td>\n",
       "      <td>Amlodipine_Tab 5mg</td>\n",
       "    </tr>\n",
       "  </tbody>\n",
       "</table>\n",
       "</div>"
      ],
      "text/plain": [
       "    post_code  items             bnf_name\n",
       "73    E15 4ES    451  Amlodipine_Tab 10mg\n",
       "66   DN16 2AB   1072   Amlodipine_Tab 5mg\n",
       "255   WS9 8AJ    396   Amlodipine_Tab 5mg\n",
       "142   NG2 7SD    605   Amlodipine_Tab 5mg\n",
       "97   KT16 8HZ    401   Amlodipine_Tab 5mg"
      ]
     },
     "execution_count": 18,
     "metadata": {},
     "output_type": "execute_result"
    }
   ],
   "source": [
    "# sorting and finding ratios\n",
    "# below code will keep the first item in sorted bnf max table\n",
    "sortedtotal = totalitems.sort_values('bnf_name').drop_duplicates(['post_code', 'items'], keep = 'first')\n",
    "sortedtotal.head()"
   ]
  },
  {
   "cell_type": "code",
   "execution_count": 19,
   "metadata": {},
   "outputs": [],
   "source": [
    "sortedtotal.sort_values('post_code', inplace = True)\n",
    "sortedtotal.head()\n",
    "# above code will again sort acc to postcode\n",
    "\n",
    "postaltotal = sumitemsbypost.groupby('post_code')[['items']].sum().reset_index()\n",
    "# this will find the sum of total items from a particular post\n",
    "\n",
    "q3df = postaltotal.merge(sortedtotal, on ='post_code')\n",
    "q3df.head()\n",
    "#sortedtotal.shape\n",
    "#postaltotal.shape\n",
    "q3df['ratio'] = q3df['items_y'].astype(float)/q3df['items_x'].astype(float)\n",
    "#q3df['ratio'].head()\n",
    "filterdf= q3df[['post_code', 'bnf_name', 'ratio']]\n",
    "filterdf = filterdf.head(100)\n",
    "vlist = filterdf.values.tolist()\n",
    "finallist = []\n",
    "for item in vlist:\n",
    "    finallist.append(tuple(item))\n",
    "    \n",
    "\n",
    "\n",
    "\n"
   ]
  },
  {
   "cell_type": "code",
   "execution_count": 20,
   "metadata": {},
   "outputs": [],
   "source": [
    "items_by_region = finallist"
   ]
  },
  {
   "cell_type": "code",
   "execution_count": 21,
   "metadata": {},
   "outputs": [
    {
     "name": "stdout",
     "output_type": "stream",
     "text": [
      "==================\n",
      "Your score:  1.0\n",
      "==================\n"
     ]
    }
   ],
   "source": [
    "grader.score.dw__items_by_region(items_by_region)"
   ]
  },
  {
   "cell_type": "markdown",
   "metadata": {},
   "source": [
    "## Question 4: script_anomalies\n",
    "\n",
    "Drug abuse is a source of human and monetary costs in health care. A first step in identifying practitioners that enable drug abuse is to look for practices where commonly abused drugs are prescribed unusually often. Let's try to find practices that prescribe an unusually high amount of opioids. The opioids we'll look for are given in the list below."
   ]
  },
  {
   "cell_type": "code",
   "execution_count": 22,
   "metadata": {},
   "outputs": [],
   "source": [
    "opioids = ['morphine', 'oxycodone', 'methadone', 'fentanyl', 'pethidine', 'buprenorphine', 'propoxyphene', 'codeine']"
   ]
  },
  {
   "cell_type": "markdown",
   "metadata": {},
   "source": [
    "These are generic names for drugs, not brand names. Generic drug names can be found using the `'bnf_code'` field in `scripts` along with the `chem` table.. Use the list of opioids provided above along with these fields to make a new field in the `scripts` data that flags whether the row corresponds with a opioid prescription."
   ]
  },
  {
   "cell_type": "markdown",
   "metadata": {},
   "source": [
    "The Python join() method is a string method, and takes a list of things to join with the string. A simpler example might help explain:\n",
    "\n",
    ">>> \",\".join([\"a\", \"b\", \"c\"])\n",
    "'a,b,c'"
   ]
  },
  {
   "cell_type": "code",
   "execution_count": 23,
   "metadata": {
    "scrolled": true
   },
   "outputs": [
    {
     "data": {
      "text/html": [
       "<div>\n",
       "<style scoped>\n",
       "    .dataframe tbody tr th:only-of-type {\n",
       "        vertical-align: middle;\n",
       "    }\n",
       "\n",
       "    .dataframe tbody tr th {\n",
       "        vertical-align: top;\n",
       "    }\n",
       "\n",
       "    .dataframe thead th {\n",
       "        text-align: right;\n",
       "    }\n",
       "</style>\n",
       "<table border=\"1\" class=\"dataframe\">\n",
       "  <thead>\n",
       "    <tr style=\"text-align: right;\">\n",
       "      <th></th>\n",
       "      <th>practice</th>\n",
       "      <th>bnf_code</th>\n",
       "      <th>bnf_name</th>\n",
       "      <th>items</th>\n",
       "      <th>nic</th>\n",
       "      <th>act_cost</th>\n",
       "      <th>quantity</th>\n",
       "      <th>opioid_prescription</th>\n",
       "    </tr>\n",
       "  </thead>\n",
       "  <tbody>\n",
       "    <tr>\n",
       "      <th>0</th>\n",
       "      <td>N85639</td>\n",
       "      <td>0106020C0</td>\n",
       "      <td>Bisacodyl_Tab E/C 5mg</td>\n",
       "      <td>1</td>\n",
       "      <td>0.39</td>\n",
       "      <td>0.47</td>\n",
       "      <td>12</td>\n",
       "      <td>False</td>\n",
       "    </tr>\n",
       "    <tr>\n",
       "      <th>1</th>\n",
       "      <td>N85639</td>\n",
       "      <td>0106040M0</td>\n",
       "      <td>Movicol Plain_Paed Pdr Sach 6.9g</td>\n",
       "      <td>1</td>\n",
       "      <td>4.38</td>\n",
       "      <td>4.07</td>\n",
       "      <td>30</td>\n",
       "      <td>False</td>\n",
       "    </tr>\n",
       "    <tr>\n",
       "      <th>2</th>\n",
       "      <td>N85639</td>\n",
       "      <td>0301011R0</td>\n",
       "      <td>Salbutamol_Inha 100mcg (200 D) CFF</td>\n",
       "      <td>1</td>\n",
       "      <td>1.50</td>\n",
       "      <td>1.40</td>\n",
       "      <td>1</td>\n",
       "      <td>False</td>\n",
       "    </tr>\n",
       "    <tr>\n",
       "      <th>3</th>\n",
       "      <td>N85639</td>\n",
       "      <td>0304010G0</td>\n",
       "      <td>Chlorphenamine Mal_Oral Soln 2mg/5ml</td>\n",
       "      <td>1</td>\n",
       "      <td>2.62</td>\n",
       "      <td>2.44</td>\n",
       "      <td>150</td>\n",
       "      <td>False</td>\n",
       "    </tr>\n",
       "    <tr>\n",
       "      <th>4</th>\n",
       "      <td>N85639</td>\n",
       "      <td>0401020K0</td>\n",
       "      <td>Diazepam_Tab 2mg</td>\n",
       "      <td>1</td>\n",
       "      <td>0.16</td>\n",
       "      <td>0.26</td>\n",
       "      <td>6</td>\n",
       "      <td>False</td>\n",
       "    </tr>\n",
       "  </tbody>\n",
       "</table>\n",
       "</div>"
      ],
      "text/plain": [
       "  practice   bnf_code                              bnf_name  items   nic  \\\n",
       "0   N85639  0106020C0                 Bisacodyl_Tab E/C 5mg      1  0.39   \n",
       "1   N85639  0106040M0      Movicol Plain_Paed Pdr Sach 6.9g      1  4.38   \n",
       "2   N85639  0301011R0    Salbutamol_Inha 100mcg (200 D) CFF      1  1.50   \n",
       "3   N85639  0304010G0  Chlorphenamine Mal_Oral Soln 2mg/5ml      1  2.62   \n",
       "4   N85639  0401020K0                      Diazepam_Tab 2mg      1  0.16   \n",
       "\n",
       "   act_cost  quantity  opioid_prescription  \n",
       "0      0.47        12                False  \n",
       "1      4.07        30                False  \n",
       "2      1.40         1                False  \n",
       "3      2.44       150                False  \n",
       "4      0.26         6                False  "
      ]
     },
     "execution_count": 23,
     "metadata": {},
     "output_type": "execute_result"
    }
   ],
   "source": [
    "opioidslist = '|'.join(opioids)\n",
    "opioidslist\n",
    "chem.head()\n",
    "nscript = scripts\n",
    "opioidbnfcode = chem.loc[chem['NAME'].str.contains(opioidslist, case=False)]['CHEM SUB'].tolist()\n",
    "\n",
    "nscript['opioid_prescription'] = nscript['bnf_code'].isin(opioidbnfcode)\n",
    "nscript.head()"
   ]
  },
  {
   "cell_type": "code",
   "execution_count": 24,
   "metadata": {},
   "outputs": [],
   "source": [
    "practicecode = practices.loc[0]\n",
    "practicecode\n",
    "truevalues = nscript[nscript['opioid_prescription']==True]\n",
    "\n",
    "#somevalue = nscript[nscript['practice']== 'N85639']\n"
   ]
  },
  {
   "cell_type": "markdown",
   "metadata": {},
   "source": [
    "Now for each practice calculate the proportion of its prescriptions containing opioids.\n",
    "\n",
    "**Hint:** Consider the following list: `[0, 1, 1, 0, 0, 0]`. What proportion of the entries are 1s? What is the mean value?"
   ]
  },
  {
   "cell_type": "code",
   "execution_count": 25,
   "metadata": {},
   "outputs": [
    {
     "data": {
      "text/html": [
       "<div>\n",
       "<style scoped>\n",
       "    .dataframe tbody tr th:only-of-type {\n",
       "        vertical-align: middle;\n",
       "    }\n",
       "\n",
       "    .dataframe tbody tr th {\n",
       "        vertical-align: top;\n",
       "    }\n",
       "\n",
       "    .dataframe thead th {\n",
       "        text-align: right;\n",
       "    }\n",
       "</style>\n",
       "<table border=\"1\" class=\"dataframe\">\n",
       "  <thead>\n",
       "    <tr style=\"text-align: right;\">\n",
       "      <th></th>\n",
       "      <th>practice</th>\n",
       "      <th>name</th>\n",
       "    </tr>\n",
       "  </thead>\n",
       "  <tbody>\n",
       "    <tr>\n",
       "      <th>0</th>\n",
       "      <td>A81002</td>\n",
       "      <td>QUEENS PARK MEDICAL CENTRE</td>\n",
       "    </tr>\n",
       "    <tr>\n",
       "      <th>1</th>\n",
       "      <td>A81003</td>\n",
       "      <td>VICTORIA MEDICAL PRACTICE</td>\n",
       "    </tr>\n",
       "    <tr>\n",
       "      <th>2</th>\n",
       "      <td>A81004</td>\n",
       "      <td>WOODLANDS ROAD SURGERY</td>\n",
       "    </tr>\n",
       "    <tr>\n",
       "      <th>3</th>\n",
       "      <td>A81005</td>\n",
       "      <td>SPRINGWOOD SURGERY</td>\n",
       "    </tr>\n",
       "    <tr>\n",
       "      <th>4</th>\n",
       "      <td>A81006</td>\n",
       "      <td>TENNANT STREET MEDICAL PRACTICE</td>\n",
       "    </tr>\n",
       "  </tbody>\n",
       "</table>\n",
       "</div>"
      ],
      "text/plain": [
       "  practice                             name\n",
       "0   A81002       QUEENS PARK MEDICAL CENTRE\n",
       "1   A81003        VICTORIA MEDICAL PRACTICE\n",
       "2   A81004           WOODLANDS ROAD SURGERY\n",
       "3   A81005               SPRINGWOOD SURGERY\n",
       "4   A81006  TENNANT STREET MEDICAL PRACTICE"
      ]
     },
     "execution_count": 25,
     "metadata": {},
     "output_type": "execute_result"
    }
   ],
   "source": [
    "prct = practices[['code', 'name']]\n",
    "prct.columns = ['practice', 'name']\n",
    "prct.head()"
   ]
  },
  {
   "cell_type": "code",
   "execution_count": 26,
   "metadata": {},
   "outputs": [
    {
     "name": "stdout",
     "output_type": "stream",
     "text": [
      "0.18579817605238425\n"
     ]
    }
   ],
   "source": [
    "opioids_per_practice = nscript.groupby('practice')['opioid_prescription'].mean().rename('fraction')\n",
    "opioids_per_practice.head()\n",
    "finalmean = nscript['opioid_prescription'].mean()\n",
    "finalstd = nscript['opioid_prescription'].std()\n",
    "print(finalstd)\n",
    "relative_opioids_per_practice = (opioids_per_practice - finalmean).rename('relative')\n",
    "relative_opioids_per_practice\n",
    "opioid = nscript.groupby('practice')['opioid_prescription'].sum().rename('opioid')\n",
    "#opioid.head()"
   ]
  },
  {
   "cell_type": "markdown",
   "metadata": {},
   "source": [
    "How do these proportions compare to the overall opioid prescription rate? Subtract off the proportion of all prescriptions that are opioids from each practice's proportion."
   ]
  },
  {
   "cell_type": "markdown",
   "metadata": {},
   "source": [
    "relative_opioids_per_practice = "
   ]
  },
  {
   "cell_type": "markdown",
   "metadata": {},
   "source": [
    "Now that we know the difference between each practice's opioid prescription rate and the overall rate, we can identify which practices prescribe opioids at above average or below average rates. However, are the differences from the overall rate important or just random deviations? In other words, are the differences from the overall rate big or small?\n",
    "\n",
    "To answer this question we have to quantify the difference we would typically expect between a given practice's opioid prescription rate and the overall rate. This quantity is called the **standard error**, and is related to the **standard deviation**, $\\sigma$. The standard error in this case is\n",
    "\n",
    "$$ \\frac{\\sigma}{\\sqrt{n}} $$\n",
    "\n",
    "where $n$ is the number of prescriptions each practice made. Calculate the standard error for each practice. Then divide `relative_opioids_per_practice` by the standard errors. We'll call the final result `opioid_scores`."
   ]
  },
  {
   "cell_type": "code",
   "execution_count": 27,
   "metadata": {},
   "outputs": [
    {
     "name": "stdout",
     "output_type": "stream",
     "text": [
      "practice\n",
      "A81005    0.004786\n",
      "A81007    0.004873\n",
      "A81011    0.004692\n",
      "A81012    0.005091\n",
      "A81017    0.004007\n",
      "Name: standard error, dtype: float64\n"
     ]
    },
    {
     "data": {
      "text/plain": [
       "practice\n",
       "A81005   -0.548306\n",
       "A81007    1.544557\n",
       "A81011    2.291795\n",
       "A81012    1.373060\n",
       "A81017    0.583168\n",
       "Name: opioid_scores, dtype: float64"
      ]
     },
     "execution_count": 27,
     "metadata": {},
     "output_type": "execute_result"
    }
   ],
   "source": [
    "countpresc = nscript.groupby('practice')['bnf_code'].count().rename('countpresc')\n",
    "countpresc.head()\n",
    "standard_error_per_practice = (finalstd/(countpresc**0.5)).rename('standard error')\n",
    "print(standard_error_per_practice.head())\n",
    "opioid_scores = (relative_opioids_per_practice/standard_error_per_practice).rename('opioid_scores')\n",
    "opioid_scores.head()"
   ]
  },
  {
   "cell_type": "markdown",
   "metadata": {},
   "source": [
    "The quantity we have calculated in `opioid_scores` is called a **z-score**:\n",
    "\n",
    "$$ \\frac{\\bar{X} - \\mu}{\\sqrt{\\sigma^2/n}} $$\n",
    "\n",
    "Here $\\bar{X}$ corresponds with the proportion for each practice, $\\mu$ corresponds with the proportion across all practices, $\\sigma^2$ corresponds with the variance of the proportion across all practices, and $n$ is the number of prescriptions made by each practice. Notice $\\bar{X}$ and $n$ will be different for each practice, while $\\mu$ and $\\sigma$ are determined across all prescriptions, and so are the same for every z-score. The z-score is a useful statistical tool used for hypothesis testing, finding outliers, and comparing data about different types of objects or events.\n",
    "\n",
    "Now that we've calculated this statistic, take the 100 practices with the largest z-score. Return your result as a list of tuples in the form `(practice_name, z-score, number_of_scripts)`. Sort your tuples by z-score in descending order. Note that some practice codes will correspond with multiple names. In this case, use the first match when sorting names alphabetically."
   ]
  },
  {
   "cell_type": "code",
   "execution_count": 28,
   "metadata": {},
   "outputs": [],
   "source": [
    "combined = pd.concat([opioid, countpresc, opioids_per_practice, relative_opioids_per_practice, standard_error_per_practice,opioid_scores], axis=1)\n",
    "combined = combined.reset_index()\n",
    "combined.head()\n",
    "prct.reset_index().head()\n",
    "combinedfinal = combined.merge(prct, on='practice', how='left')\n",
    "\n",
    "\n",
    "combinedfinal.sort_values('opioid_scores', ascending = False , inplace=True)\n",
    "combinedfinal = combinedfinal.drop_duplicates('name')\n",
    "combinedfinal.head()\n",
    "result = combinedfinal[['name','opioid_scores','countpresc']]\n",
    "result.head()\n",
    "\n",
    "result = result.head(100)\n",
    "v2list = result.values.tolist()\n",
    "final3list = []\n",
    "for item in v2list:\n",
    "    final3list.append(tuple(item))\n",
    "\n",
    "    \n"
   ]
  },
  {
   "cell_type": "code",
   "execution_count": 29,
   "metadata": {},
   "outputs": [
    {
     "data": {
      "text/plain": [
       "[('NATIONAL ENHANCED SERVICE', 11.695817862936027, 7),\n",
       " ('OUTREACH SERVICE NH / RH', 7.339043019238823, 2),\n",
       " ('BRISDOC HEALTHCARE SERVICES OOH', 6.1505817490838295, 60),\n",
       " ('H&R P C SPECIAL SCHEME', 5.123032414033079, 36),\n",
       " ('HMR BARDOC OOH', 4.958866438487605, 321),\n",
       " ('INTEGRATED CARE 24 LTD (CWSX OOH)', 4.8888781604828235, 426),\n",
       " ('DARWEN HEALTHCARE', 4.8391589686363385, 1917),\n",
       " ('THE LIMES MEDICAL PRACTICE', 4.546841872334426, 1321),\n",
       " ('IC24 LTD (BRIGHTON & HOVE OOH)', 4.335047010605197, 357),\n",
       " ('OLDHAM 7 DAY ACCESS HUB2 OOH', 4.31178403661019, 56),\n",
       " ('IC24 LTD (NORFOLK & WISBECH OOH)', 4.2575005924727645, 489),\n",
       " ('ROSSENDALE MIU & OOH', 4.256827446322491, 18),\n",
       " ('BURY WALK-IN CENTRE', 4.150589122881536, 138),\n",
       " ('IC24 LTD (HORSHAM & MID SUSSEX OOH)', 3.7816207038443523, 215),\n",
       " ('LCW HOUNSLOW CCG OOH', 3.582848546206269, 69),\n",
       " ('WEEKEND WORKING EASINGTON NORTH', 3.565938771129764, 278),\n",
       " ('COMPASS ENFIELD', 3.5587202651067935, 7),\n",
       " ('BASSETLAW DRUG & ALCOHOL SERVICE', 3.5332641025115423, 2),\n",
       " ('THE PARK SURGERY', 3.511114736389202, 969),\n",
       " ('CHAPEL STREET SURGERY', 3.4907459502707447, 1504),\n",
       " ('BEECHWOOD MEDICAL PRACTICE', 3.4747953064338977, 1552),\n",
       " ('BASSETLAW HOSPICE OF THE GOOD SHEPHERD', 3.454423428527398, 46),\n",
       " ('CARDEN SURGERY', 3.4503113243413193, 1375),\n",
       " ('GP IN A&E (WIC)', 3.3959177486386096, 87),\n",
       " ('NORTHAMPTONSHIRE OUT OF HOURS SERVICE', 3.39355927807245, 382),\n",
       " ('NORTHAMPTONSHIRE OOH SERVICE', 3.39355927807245, 382),\n",
       " ('WORDEN MEDICAL CENTRE', 3.341328344384246, 1898),\n",
       " ('BURY OOH', 3.321529559970347, 292),\n",
       " ('IC24 SOUTHEND/CP&R CCG OOH', 3.2211153199464, 336),\n",
       " ('SOUTH ESSEX OOH', 3.2211153199464, 336),\n",
       " ('IC24 LTD (CRAWLEY OOH)', 3.1942640976202856, 173),\n",
       " ('EASTBOURNE  HAILSHAM & SEAFORD OOH', 2.9896925335154507, 255),\n",
       " ('THE ROSEBERRY PRACTICE', 2.9803589486570257, 1450),\n",
       " ('SHAFTESBURY MEDICAL CTR.', 2.904593003935284, 2126),\n",
       " ('THE RICHMOND HILL PRACTICE', 2.8601891978583245, 1729),\n",
       " ('DGS OOH (INTEGRATED CARE 24 LTD)', 2.795651191074179, 325),\n",
       " ('THE LAKESIDE PRACTICE', 2.7801243484267157, 1554),\n",
       " ('DEWSBURY MSK SERVICE', 2.7736443521856917, 3),\n",
       " ('HALLIWELL SURGERY 1', 2.6902312553464682, 1124),\n",
       " ('THE ROYTON & CROMPTON FAMILY PRACTICE', 2.6674099502870625, 2054),\n",
       " ('PRACTICE 3  MEDICAL CENTRE  BRIDLINGTON', 2.6526642039852844, 1936),\n",
       " ('LCWUCC - IUC NCL', 2.5927932420214392, 443),\n",
       " ('DR MOKASHI', 2.496887689055938, 1341),\n",
       " ('THE CREST FAMILY PRACTICE', 2.494358442548829, 1294),\n",
       " ('PERKINS PRACTICE', 2.479571342887134, 899),\n",
       " ('DARLASTON HEALTH CENTRE', 2.4456345065842653, 996),\n",
       " (\"DR MA SIMS' PRACTICE\", 2.4372766106456107, 1857),\n",
       " ('1/LOWER BROUGHTON MEDICAL PRACTICE', 2.435636753514273, 1044),\n",
       " ('CORNWALLIS PLAZA SURGERY', 2.424202462055629, 2326),\n",
       " ('FAIRMORE MEDICAL PRACTICE', 2.382408598971051, 1288),\n",
       " ('LAWLEY MEDICAL PRACTICE', 2.373577973078906, 1409),\n",
       " (\"PEEL GP'S\", 2.3535943384931546, 1557),\n",
       " ('PEEL GPS DR JACKSON', 2.3535943384931546, 1557),\n",
       " ('PEEL GPS', 2.3535943384931546, 1557),\n",
       " ('EASTLANDS MEDICAL CENTRE', 2.325396683274206, 1369),\n",
       " ('MAGHULL HEALTH CENTRE (DR SAPRE)', 2.3194074094375097, 1322),\n",
       " ('INTEGRATED CARE 24 LIMITED OOH', 2.3106497615538943, 511),\n",
       " ('WILLOW BANK SURGERY', 2.295642132037915, 1934),\n",
       " ('IC24 LTD (HWLH OOH)', 2.2949004338925127, 216),\n",
       " ('CHADWICK PRACTICE', 2.2917945205697308, 1568),\n",
       " ('C&WPT OOH SERVICE', 2.270852401273787, 341),\n",
       " ('THE MERRYWOOD PRACTICE', 2.270550955639659, 1234),\n",
       " ('LEYLAND SURGERY', 2.251774286539937, 1213),\n",
       " ('WALKDEN MEDICAL PRACTICE', 2.2415736140706994, 1577),\n",
       " ('RADCLIFFE MEDICAL PRACTICE', 2.239607033459532, 1553),\n",
       " ('RIBBLESDALE GP-DR SUBBIAH', 2.209745891261483, 1100),\n",
       " ('TOWNSIDE SURGERY', 2.209745891261483, 1100),\n",
       " ('THE MAZHARI & KHAN PRACTICE', 2.2006627122644895, 912),\n",
       " ('ST ANDREWS - BRANSHOLME', 2.1967025909056024, 1634),\n",
       " ('JAMES ALEXANDER FAMILY PRACTICE', 2.1967025909056024, 1634),\n",
       " ('B&H INTERMEDIATE CARE SERVICE', 2.1862131918267544, 456),\n",
       " ('HARDEN SURGERY', 2.155495816284959, 1228),\n",
       " ('THE GATEWAY MEDICAL PRACTICE', 2.154423496545371, 1349),\n",
       " ('QUAYSIDE MEDICAL PRACTICE', 2.1535448371359025, 1422),\n",
       " ('HASTINGS AND ROTHER OOH', 2.076490970994684, 291),\n",
       " ('FISHPONDS FAMILY PRACTICE', 2.0743592136603786, 1632),\n",
       " ('DRS CLOAK  CHOI AND MILLIGAN', 2.0511156727220916, 1661),\n",
       " (\"ST MARY'S SURGERY\", 2.041026500575296, 981),\n",
       " ('THE THORNTON PRACTICE', 1.9970130183083867, 1970),\n",
       " ('IC24 LTD (EAST SURREY OOH)', 1.9530599800408153, 194),\n",
       " ('CORNISHWAY GROUP PRACTICE', 1.9529030654485127, 1506),\n",
       " ('PREMIER HEALTH TEAM', 1.9342677920567377, 876),\n",
       " ('CONCORD MEDICAL PRACTICE', 1.9339605744520654, 1386),\n",
       " ('COULBY MEDICAL PRACTICE', 1.9268085445885355, 1585),\n",
       " ('PARKSIDE MEDICAL CENTRE', 1.9235518278308144, 1314),\n",
       " ('THE DISCOVERY PRACTICE', 1.9047661015943373, 1268),\n",
       " ('ANCORA MEDICAL PRACTICE', 1.8854159223309173, 2347),\n",
       " ('DARWEN HEALTHLINK', 1.8822754121466374, 2019),\n",
       " ('JALAL PRACTICE', 1.8661104279692897, 885),\n",
       " ('ROOLEY LANE MED. CENTRE', 1.8635817801511316, 1522),\n",
       " ('GREAT HOMER STREET MEDICAL CENTRE', 1.813002119840964, 1062),\n",
       " ('NORTHPOINT', 1.8024326949572382, 1137),\n",
       " ('THE CRESCENT SURGERY', 1.7989165864147443, 1734),\n",
       " ('BROOKVALE PRACTICE', 1.7979440966591638, 1484),\n",
       " ('LEIGH NHS WIC', 1.7760099128664422, 162),\n",
       " ('DR SP SINGH AND PARTNERS', 1.7720416435781805, 1840),\n",
       " ('BELGRAVE SURGERY', 1.7643723369327995, 1291),\n",
       " ('THE PARKS MEDICAL PRACTICE', 1.7589687048174791, 1466),\n",
       " ('THE ROSS PRACTICE', 1.7231557395207378, 1648),\n",
       " ('THOMAS WALKER', 1.69692378556541, 1377)]"
      ]
     },
     "execution_count": 29,
     "metadata": {},
     "output_type": "execute_result"
    }
   ],
   "source": [
    "#unique_practices = \n",
    "anomalies = final3list\n",
    "anomalies\n"
   ]
  },
  {
   "cell_type": "code",
   "execution_count": 30,
   "metadata": {},
   "outputs": [
    {
     "ename": "NameError",
     "evalue": "name 'results' is not defined",
     "output_type": "error",
     "traceback": [
      "\u001b[0;31m---------------------------------------------------------------------------\u001b[0m",
      "\u001b[0;31mNameError\u001b[0m                                 Traceback (most recent call last)",
      "\u001b[0;32m<ipython-input-30-0f9ba5b4964d>\u001b[0m in \u001b[0;36m<module>\u001b[0;34m()\u001b[0m\n\u001b[0;32m----> 1\u001b[0;31m \u001b[0mresults\u001b[0m\u001b[0;34m.\u001b[0m\u001b[0mhead\u001b[0m\u001b[0;34m(\u001b[0m\u001b[0;34m)\u001b[0m\u001b[0;34m\u001b[0m\u001b[0;34m\u001b[0m\u001b[0m\n\u001b[0m",
      "\u001b[0;31mNameError\u001b[0m: name 'results' is not defined"
     ]
    }
   ],
   "source": [
    "results.head()"
   ]
  },
  {
   "cell_type": "code",
   "execution_count": null,
   "metadata": {},
   "outputs": [],
   "source": [
    "grader.score.dw__script_anomalies(anomalies)"
   ]
  },
  {
   "cell_type": "markdown",
   "metadata": {},
   "source": [
    "## Question 5: script_growth\n",
    "\n",
    "Another way to identify anomalies is by comparing current data to historical data. In the case of identifying sites of drug abuse, we might compare a practice's current rate of opioid prescription to their rate 5 or 10 years ago. Unless the nature of the practice has changed, the profile of drugs they prescribe should be relatively stable. We might also want to identify trends through time for business reasons, identifying drugs that are gaining market share. That's what we'll do in this question.\n",
    "\n",
    "We'll load in beneficiary data from 6 months earlier, June 2016, and calculate the percent growth in prescription rate from June 2016 to January 2017 for each `bnf_name`. We'll return the 50 items with largest growth and the 50 items with the largest shrinkage (i.e. negative percent growth) as a list of tuples sorted by growth rate in descending order in the format `(script_name, growth_rate, raw_2016_count)`. You'll notice that many of the 50 fastest growing items have low counts of prescriptions in 2016. Filter out any items that were prescribed less than 50 times."
   ]
  },
  {
   "cell_type": "code",
   "execution_count": 31,
   "metadata": {},
   "outputs": [],
   "source": [
    "scripts16 = pd.read_csv('./dw-data/201606scripts_sample.csv.gz')"
   ]
  },
  {
   "cell_type": "code",
   "execution_count": 32,
   "metadata": {},
   "outputs": [],
   "source": [
    "growthrate = (scripts.bnf_name.value_counts() - scripts16.bnf_name.value_counts())/scripts16.bnf_name.value_counts()\n",
    "resp = pd.DataFrame(dict(growthrate = growthrate, item16 = scripts16.bnf_name.value_counts())).reset_index()\n",
    "resp.fillna(0, inplace=True)\n",
    "resp = resp[resp['item16'] >= 50]\n",
    "resp.sort_values(by='growthrate', ascending = False, inplace=True)\n",
    "script_growth = list(pd.concat([resp.head(50), resp.tail(50)]).itertuples(index=False, name=None))\n"
   ]
  },
  {
   "cell_type": "code",
   "execution_count": null,
   "metadata": {},
   "outputs": [],
   "source": [
    "grader.score.dw__script_growth(script_growth)"
   ]
  },
  {
   "cell_type": "markdown",
   "metadata": {},
   "source": [
    "## Question 6: rare_scripts\n",
    "\n",
    "Does a practice's prescription costs originate from routine care or from reliance on rarely prescribed treatments? Commonplace treatments can carry lower costs than rare treatments because of efficiencies in large-scale production. While some specialist practices can't help but avoid prescribing rare medicines because there are no alternatives, some practices may be prescribing a unnecessary amount of brand-name products when generics are available. Let's identify practices whose costs disproportionately originate from rarely prescribed items.\n",
    "\n",
    "First we have to identify which `'bnf_code'` are rare. To do this, find the probability $p$ of a prescription having a particular `'bnf_code'` if the `'bnf_code'` was randomly chosen from the unique options in the beneficiary data. We will call a `'bnf_code'` rare if it is prescribed at a rate less than $0.1p$."
   ]
  },
  {
   "cell_type": "code",
   "execution_count": 33,
   "metadata": {},
   "outputs": [],
   "source": [
    "unique_values = practices.sort_values(['code', 'post_code']).drop_duplicates(subset= 'code')\n",
    "unique_values.head()\n",
    "script_by_bnf_code = scripts.groupby(['bnf_code'])['bnf_code'].count().reset_index(name='bnf_code_count')\n",
    "script_by_bnf_code['p'] = script_by_bnf_code['bnf_code_count'] / len(scripts)"
   ]
  },
  {
   "cell_type": "code",
   "execution_count": 34,
   "metadata": {},
   "outputs": [
    {
     "data": {
      "text/html": [
       "<div>\n",
       "<style scoped>\n",
       "    .dataframe tbody tr th:only-of-type {\n",
       "        vertical-align: middle;\n",
       "    }\n",
       "\n",
       "    .dataframe tbody tr th {\n",
       "        vertical-align: top;\n",
       "    }\n",
       "\n",
       "    .dataframe thead th {\n",
       "        text-align: right;\n",
       "    }\n",
       "</style>\n",
       "<table border=\"1\" class=\"dataframe\">\n",
       "  <thead>\n",
       "    <tr style=\"text-align: right;\">\n",
       "      <th></th>\n",
       "      <th>practice</th>\n",
       "      <th>bnf_code</th>\n",
       "      <th>bnf_name</th>\n",
       "      <th>items</th>\n",
       "      <th>nic</th>\n",
       "      <th>act_cost</th>\n",
       "      <th>quantity</th>\n",
       "      <th>opioid_prescription</th>\n",
       "      <th>bnf_code_count</th>\n",
       "      <th>p</th>\n",
       "      <th>rare</th>\n",
       "    </tr>\n",
       "  </thead>\n",
       "  <tbody>\n",
       "    <tr>\n",
       "      <th>0</th>\n",
       "      <td>N85639</td>\n",
       "      <td>0106020C0</td>\n",
       "      <td>Bisacodyl_Tab E/C 5mg</td>\n",
       "      <td>1</td>\n",
       "      <td>0.39</td>\n",
       "      <td>0.47</td>\n",
       "      <td>12</td>\n",
       "      <td>False</td>\n",
       "      <td>1035</td>\n",
       "      <td>0.001064</td>\n",
       "      <td>False</td>\n",
       "    </tr>\n",
       "    <tr>\n",
       "      <th>1</th>\n",
       "      <td>N81013</td>\n",
       "      <td>0106020C0</td>\n",
       "      <td>Bisacodyl_Tab E/C 5mg</td>\n",
       "      <td>19</td>\n",
       "      <td>28.10</td>\n",
       "      <td>28.14</td>\n",
       "      <td>860</td>\n",
       "      <td>False</td>\n",
       "      <td>1035</td>\n",
       "      <td>0.001064</td>\n",
       "      <td>False</td>\n",
       "    </tr>\n",
       "    <tr>\n",
       "      <th>2</th>\n",
       "      <td>N81029</td>\n",
       "      <td>0106020C0</td>\n",
       "      <td>Bisacodyl_Tab E/C 5mg</td>\n",
       "      <td>50</td>\n",
       "      <td>67.73</td>\n",
       "      <td>67.51</td>\n",
       "      <td>2074</td>\n",
       "      <td>False</td>\n",
       "      <td>1035</td>\n",
       "      <td>0.001064</td>\n",
       "      <td>False</td>\n",
       "    </tr>\n",
       "    <tr>\n",
       "      <th>3</th>\n",
       "      <td>N81029</td>\n",
       "      <td>0106020C0</td>\n",
       "      <td>Bisacodyl_Suppos 10mg</td>\n",
       "      <td>1</td>\n",
       "      <td>1.77</td>\n",
       "      <td>1.75</td>\n",
       "      <td>6</td>\n",
       "      <td>False</td>\n",
       "      <td>1035</td>\n",
       "      <td>0.001064</td>\n",
       "      <td>False</td>\n",
       "    </tr>\n",
       "    <tr>\n",
       "      <th>4</th>\n",
       "      <td>N81029</td>\n",
       "      <td>0106020C0</td>\n",
       "      <td>Dulcolax_Tab 5mg</td>\n",
       "      <td>1</td>\n",
       "      <td>3.78</td>\n",
       "      <td>3.61</td>\n",
       "      <td>56</td>\n",
       "      <td>False</td>\n",
       "      <td>1035</td>\n",
       "      <td>0.001064</td>\n",
       "      <td>False</td>\n",
       "    </tr>\n",
       "  </tbody>\n",
       "</table>\n",
       "</div>"
      ],
      "text/plain": [
       "  practice   bnf_code               bnf_name  items    nic  act_cost  \\\n",
       "0   N85639  0106020C0  Bisacodyl_Tab E/C 5mg      1   0.39      0.47   \n",
       "1   N81013  0106020C0  Bisacodyl_Tab E/C 5mg     19  28.10     28.14   \n",
       "2   N81029  0106020C0  Bisacodyl_Tab E/C 5mg     50  67.73     67.51   \n",
       "3   N81029  0106020C0  Bisacodyl_Suppos 10mg      1   1.77      1.75   \n",
       "4   N81029  0106020C0       Dulcolax_Tab 5mg      1   3.78      3.61   \n",
       "\n",
       "   quantity  opioid_prescription  bnf_code_count         p   rare  \n",
       "0        12                False            1035  0.001064  False  \n",
       "1       860                False            1035  0.001064  False  \n",
       "2      2074                False            1035  0.001064  False  \n",
       "3         6                False            1035  0.001064  False  \n",
       "4        56                False            1035  0.001064  False  "
      ]
     },
     "execution_count": 34,
     "metadata": {},
     "output_type": "execute_result"
    }
   ],
   "source": [
    "p = 1 / len(script_by_bnf_code)\n",
    "script_by_bnf_code['rare'] = np.where(script_by_bnf_code['p'] < 0.1 * p, True, False)\n",
    "#rates = ...\n",
    "#rare_codes = \n",
    "scripts_rare = pd.merge(scripts, script_by_bnf_code, how = 'inner', on = 'bnf_code')\n",
    "scripts_rare.head()\n",
    "#script_by_bnf_code.head()"
   ]
  },
  {
   "cell_type": "code",
   "execution_count": 39,
   "metadata": {},
   "outputs": [
    {
     "data": {
      "text/html": [
       "<div>\n",
       "<style scoped>\n",
       "    .dataframe tbody tr th:only-of-type {\n",
       "        vertical-align: middle;\n",
       "    }\n",
       "\n",
       "    .dataframe tbody tr th {\n",
       "        vertical-align: top;\n",
       "    }\n",
       "\n",
       "    .dataframe thead th {\n",
       "        text-align: right;\n",
       "    }\n",
       "</style>\n",
       "<table border=\"1\" class=\"dataframe\">\n",
       "  <thead>\n",
       "    <tr style=\"text-align: right;\">\n",
       "      <th></th>\n",
       "      <th>practice</th>\n",
       "      <th>tpraccost</th>\n",
       "      <th>rare_cost</th>\n",
       "      <th>rare_cost_prop</th>\n",
       "    </tr>\n",
       "  </thead>\n",
       "  <tbody>\n",
       "    <tr>\n",
       "      <th>0</th>\n",
       "      <td>A81005</td>\n",
       "      <td>103840.82</td>\n",
       "      <td>1247.83</td>\n",
       "      <td>0.012017</td>\n",
       "    </tr>\n",
       "    <tr>\n",
       "      <th>1</th>\n",
       "      <td>A81007</td>\n",
       "      <td>113482.49</td>\n",
       "      <td>951.06</td>\n",
       "      <td>0.008381</td>\n",
       "    </tr>\n",
       "    <tr>\n",
       "      <th>2</th>\n",
       "      <td>A81011</td>\n",
       "      <td>159507.03</td>\n",
       "      <td>816.02</td>\n",
       "      <td>0.005116</td>\n",
       "    </tr>\n",
       "    <tr>\n",
       "      <th>3</th>\n",
       "      <td>A81012</td>\n",
       "      <td>83296.81</td>\n",
       "      <td>1145.11</td>\n",
       "      <td>0.013747</td>\n",
       "    </tr>\n",
       "    <tr>\n",
       "      <th>4</th>\n",
       "      <td>A81017</td>\n",
       "      <td>232656.17</td>\n",
       "      <td>1712.15</td>\n",
       "      <td>0.007359</td>\n",
       "    </tr>\n",
       "  </tbody>\n",
       "</table>\n",
       "</div>"
      ],
      "text/plain": [
       "  practice  tpraccost  rare_cost  rare_cost_prop\n",
       "0   A81005  103840.82    1247.83        0.012017\n",
       "1   A81007  113482.49     951.06        0.008381\n",
       "2   A81011  159507.03     816.02        0.005116\n",
       "3   A81012   83296.81    1145.11        0.013747\n",
       "4   A81017  232656.17    1712.15        0.007359"
      ]
     },
     "execution_count": 39,
     "metadata": {},
     "output_type": "execute_result"
    }
   ],
   "source": [
    "costofprac = scripts_rare.groupby('practice')['act_cost'].sum().reset_index(name = 'tpraccost')\n",
    "rarecost = scripts_rare[scripts_rare['rare'] ==True].groupby('practice')['act_cost'].sum().reset_index(name = 'rare_cost')\n",
    "script_cost_by_practice = pd.merge(costofprac, rarecost, on = 'practice', how='left')\n",
    "script_cost_by_practice.fillna(0, inplace=True)\n",
    "script_cost_by_practice['rare_cost_prop'] = (script_cost_by_practice['rare_cost'] / script_cost_by_practice['tpraccost'])\n",
    "script_cost_by_practice.head()"
   ]
  },
  {
   "cell_type": "code",
   "execution_count": 36,
   "metadata": {},
   "outputs": [],
   "source": [
    "total_cost = scripts_rare['act_cost'].sum()\n",
    "total_rare_cost = scripts_rare[scripts_rare['rare'] == True]['act_cost'].sum()\n",
    "\n",
    "overall_rare_cost = total_rare_cost / total_cost\n",
    "script_cost_by_practice['relative_rare_cost_prop'] = script_cost_by_practice['rare_cost_prop'] - overall_rare_cost"
   ]
  },
  {
   "cell_type": "code",
   "execution_count": 37,
   "metadata": {},
   "outputs": [
    {
     "data": {
      "text/html": [
       "<div>\n",
       "<style scoped>\n",
       "    .dataframe tbody tr th:only-of-type {\n",
       "        vertical-align: middle;\n",
       "    }\n",
       "\n",
       "    .dataframe tbody tr th {\n",
       "        vertical-align: top;\n",
       "    }\n",
       "\n",
       "    .dataframe thead th {\n",
       "        text-align: right;\n",
       "    }\n",
       "</style>\n",
       "<table border=\"1\" class=\"dataframe\">\n",
       "  <thead>\n",
       "    <tr style=\"text-align: right;\">\n",
       "      <th></th>\n",
       "      <th>practice</th>\n",
       "      <th>tpraccost</th>\n",
       "      <th>rare_cost</th>\n",
       "      <th>rare_cost_prop</th>\n",
       "      <th>relative_rare_cost_prop</th>\n",
       "      <th>standard_errors</th>\n",
       "    </tr>\n",
       "  </thead>\n",
       "  <tbody>\n",
       "    <tr>\n",
       "      <th>0</th>\n",
       "      <td>A81005</td>\n",
       "      <td>103840.82</td>\n",
       "      <td>1247.83</td>\n",
       "      <td>0.012017</td>\n",
       "      <td>-0.003946</td>\n",
       "      <td>0.060509</td>\n",
       "    </tr>\n",
       "    <tr>\n",
       "      <th>1</th>\n",
       "      <td>A81007</td>\n",
       "      <td>113482.49</td>\n",
       "      <td>951.06</td>\n",
       "      <td>0.008381</td>\n",
       "      <td>-0.007582</td>\n",
       "      <td>0.060509</td>\n",
       "    </tr>\n",
       "    <tr>\n",
       "      <th>2</th>\n",
       "      <td>A81011</td>\n",
       "      <td>159507.03</td>\n",
       "      <td>816.02</td>\n",
       "      <td>0.005116</td>\n",
       "      <td>-0.010847</td>\n",
       "      <td>0.060509</td>\n",
       "    </tr>\n",
       "    <tr>\n",
       "      <th>3</th>\n",
       "      <td>A81012</td>\n",
       "      <td>83296.81</td>\n",
       "      <td>1145.11</td>\n",
       "      <td>0.013747</td>\n",
       "      <td>-0.002216</td>\n",
       "      <td>0.060509</td>\n",
       "    </tr>\n",
       "    <tr>\n",
       "      <th>4</th>\n",
       "      <td>A81017</td>\n",
       "      <td>232656.17</td>\n",
       "      <td>1712.15</td>\n",
       "      <td>0.007359</td>\n",
       "      <td>-0.008604</td>\n",
       "      <td>0.060509</td>\n",
       "    </tr>\n",
       "  </tbody>\n",
       "</table>\n",
       "</div>"
      ],
      "text/plain": [
       "  practice  tpraccost  rare_cost  rare_cost_prop  relative_rare_cost_prop  \\\n",
       "0   A81005  103840.82    1247.83        0.012017                -0.003946   \n",
       "1   A81007  113482.49     951.06        0.008381                -0.007582   \n",
       "2   A81011  159507.03     816.02        0.005116                -0.010847   \n",
       "3   A81012   83296.81    1145.11        0.013747                -0.002216   \n",
       "4   A81017  232656.17    1712.15        0.007359                -0.008604   \n",
       "\n",
       "   standard_errors  \n",
       "0         0.060509  \n",
       "1         0.060509  \n",
       "2         0.060509  \n",
       "3         0.060509  \n",
       "4         0.060509  "
      ]
     },
     "execution_count": 37,
     "metadata": {},
     "output_type": "execute_result"
    }
   ],
   "source": [
    "script_cost_by_practice['standard_errors'] = script_cost_by_practice['relative_rare_cost_prop'].std()\n",
    "script_cost_by_practice.head()"
   ]
  },
  {
   "cell_type": "code",
   "execution_count": 38,
   "metadata": {},
   "outputs": [
    {
     "name": "stdout",
     "output_type": "stream",
     "text": [
      "  practice  tpraccost  rare_cost  rare_cost_prop  relative_rare_cost_prop  \\\n",
      "0   A81005  103840.82    1247.83        0.012017                -0.003946   \n",
      "1   A81007  113482.49     951.06        0.008381                -0.007582   \n",
      "2   A81011  159507.03     816.02        0.005116                -0.010847   \n",
      "3   A81012   83296.81    1145.11        0.013747                -0.002216   \n",
      "4   A81017  232656.17    1712.15        0.007359                -0.008604   \n",
      "\n",
      "   standard_errors  z_scores  \n",
      "0         0.060509 -0.065216  \n",
      "1         0.060509 -0.125308  \n",
      "2         0.060509 -0.179263  \n",
      "3         0.060509 -0.036615  \n",
      "4         0.060509 -0.142190  \n",
      "(856, 7)\n",
      "(856, 9)\n"
     ]
    }
   ],
   "source": [
    "script_cost_by_practice['z_scores'] = script_cost_by_practice['relative_rare_cost_prop'] / script_cost_by_practice['standard_errors']\n",
    "print(script_cost_by_practice.head())\n",
    "print(script_cost_by_practice.shape)\n",
    "practices_unique = practices.sort_values('name').groupby('code', sort=False).first()\n",
    "practices_unique.reset_index(inplace=True)\n",
    "merge_script_practice_z_scores = script_cost_by_practice.merge(\n",
    "    practices_unique[['name', 'code']], how = 'inner', left_on = 'practice', right_on = 'code', sort = False)\n",
    "\n",
    "print(merge_script_practice_z_scores.shape)\n",
    "merge_script_practice_z_scores = merge_script_practice_z_scores.sort_values('name', ascending = True)\n",
    "merge_script_practice_z_scores.drop_duplicates(subset = ['code', 'name'], inplace = True)\n",
    "\n",
    "rare_scripts = []\n",
    "for index, row in merge_script_practice_z_scores.iterrows():\n",
    "    rare_scripts.append(\n",
    "        (row['practice'], \n",
    "         row['name'],\n",
    "         row['z_scores']))\n",
    "\n",
    "rare_scripts = sorted(rare_scripts, key=lambda x: x[2], reverse = True)[:100]"
   ]
  },
  {
   "cell_type": "markdown",
   "metadata": {},
   "source": [
    "Now for each practice, calculate the proportion of costs that originate from prescription of rare treatments (i.e. rare `'bnf_code'`). Use the `'act_cost'` field for this calculation."
   ]
  },
  {
   "cell_type": "code",
   "execution_count": null,
   "metadata": {},
   "outputs": [],
   "source": [
    "rare_cost_prop = ..."
   ]
  },
  {
   "cell_type": "markdown",
   "metadata": {},
   "source": [
    "Now we will calculate a z-score for each practice based on this proportion.\n",
    "First take the difference of `rare_cost_prop` and the proportion of costs originating from rare treatments across all practices."
   ]
  },
  {
   "cell_type": "code",
   "execution_count": null,
   "metadata": {},
   "outputs": [],
   "source": [
    "relative_rare_cost_prop = ..."
   ]
  },
  {
   "cell_type": "markdown",
   "metadata": {},
   "source": [
    "Now we will estimate the standard errors (i.e. the denominator of the z-score) by simply taking the standard deviation of this difference."
   ]
  },
  {
   "cell_type": "markdown",
   "metadata": {},
   "source": [
    "standard_errors = ..."
   ]
  },
  {
   "cell_type": "markdown",
   "metadata": {},
   "source": [
    "Finally compute the z-scores. Return the practices with the top 100 z-scores in the form `(post_code, practice_name, z-score)`. Note that some practice codes will correspond with multiple names. In this case, use the first match when sorting names alphabetically."
   ]
  },
  {
   "cell_type": "markdown",
   "metadata": {},
   "source": [
    "rare_scores = ..."
   ]
  },
  {
   "cell_type": "markdown",
   "metadata": {},
   "source": [
    "rare_scripts = [(\"Y03472\", \"CONSULTANT DIABETES TEAM\", 16.2626871247)] * 100"
   ]
  },
  {
   "cell_type": "code",
   "execution_count": 19,
   "metadata": {},
   "outputs": [
    {
     "name": "stdout",
     "output_type": "stream",
     "text": [
      "==================\n",
      "Your score:  1.0\n",
      "==================\n"
     ]
    }
   ],
   "source": [
    "grader.score.dw__rare_scripts(rare_scripts)"
   ]
  },
  {
   "cell_type": "markdown",
   "metadata": {},
   "source": [
    "*Copyright &copy; 2020 The Data Incubator.  All rights reserved.*"
   ]
  }
 ],
 "metadata": {
  "kernelspec": {
   "display_name": "Python 3",
   "language": "python",
   "name": "python3"
  },
  "language_info": {
   "codemirror_mode": {
    "name": "ipython",
    "version": 3
   },
   "file_extension": ".py",
   "mimetype": "text/x-python",
   "name": "python",
   "nbconvert_exporter": "python",
   "pygments_lexer": "ipython3",
   "version": "3.7.3"
  },
  "nbclean": true
 },
 "nbformat": 4,
 "nbformat_minor": 1
}

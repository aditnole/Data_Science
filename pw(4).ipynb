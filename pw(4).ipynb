{
 "cells": [
  {
   "cell_type": "code",
   "execution_count": 4,
   "metadata": {
    "init_cell": true
   },
   "outputs": [],
   "source": [
    "%logstop\n",
    "%logstart -rtq ~/.logs/pw.py append\n",
    "%matplotlib inline\n",
    "import matplotlib\n",
    "import seaborn as sns\n",
    "sns.set()\n",
    "matplotlib.rcParams['figure.dpi'] = 144"
   ]
  },
  {
   "cell_type": "code",
   "execution_count": 3,
   "metadata": {},
   "outputs": [],
   "source": [
    "from static_grader import grader"
   ]
  },
  {
   "cell_type": "markdown",
   "metadata": {},
   "source": [
    "# PW Miniproject\n",
    "## Introduction\n",
    "\n",
    "The objective of this miniproject is to exercise your ability to use basic Python data structures, define functions, and control program flow. We will be using these concepts to perform some fundamental data wrangling tasks such as joining data sets together, splitting data into groups, and aggregating data into summary statistics.\n",
    "**Please do not use `pandas` or `numpy` to answer these questions.**\n",
    "\n",
    "We will be working with medical data from the British NHS on prescription drugs. Since this is real data, it contains many ambiguities that we will need to confront in our analysis. This is commonplace in data science, and is one of the lessons you will learn in this miniproject."
   ]
  },
  {
   "cell_type": "markdown",
   "metadata": {},
   "source": [
    "## Downloading the data\n",
    "\n",
    "We first need to download the data we'll be using from Amazon S3:"
   ]
  },
  {
   "cell_type": "code",
   "execution_count": 5,
   "metadata": {},
   "outputs": [
    {
     "name": "stderr",
     "output_type": "stream",
     "text": [
      "mkdir: cannot create directory ‘pw-data’: File exists\n",
      "File ‘./pw-data/201701scripts_sample.json.gz’ already there; not retrieving.\n",
      "\n",
      "File ‘./pw-data/practices.json.gz’ already there; not retrieving.\n",
      "\n"
     ]
    }
   ],
   "source": [
    "%%bash\n",
    "mkdir pw-data\n",
    "wget http://dataincubator-wqu.s3.amazonaws.com/pwdata/201701scripts_sample.json.gz -nc -P ./pw-data\n",
    "wget http://dataincubator-wqu.s3.amazonaws.com/pwdata/practices.json.gz -nc -P ./pw-data"
   ]
  },
  {
   "cell_type": "markdown",
   "metadata": {},
   "source": [
    "## Loading the data\n",
    "\n",
    "The first step of the project is to read in the data. We will discuss reading and writing various kinds of files later in the course, but the code below should get you started."
   ]
  },
  {
   "cell_type": "code",
   "execution_count": 6,
   "metadata": {},
   "outputs": [],
   "source": [
    "import gzip\n",
    "import simplejson as json"
   ]
  },
  {
   "cell_type": "code",
   "execution_count": 7,
   "metadata": {},
   "outputs": [],
   "source": [
    "with gzip.open('./pw-data/201701scripts_sample.json.gz', 'rb') as f:\n",
    "    scripts = json.load(f)\n",
    "\n",
    "with gzip.open('./pw-data/practices.json.gz', 'rb') as f:\n",
    "    practices = json.load(f)"
   ]
  },
  {
   "cell_type": "markdown",
   "metadata": {},
   "source": [
    "This data set comes from Britain's National Health Service. The `scripts` variable is a list of prescriptions issued by NHS doctors. Each prescription is represented by a dictionary with various data fields: `'practice'`, `'bnf_code'`, `'bnf_name'`, `'quantity'`, `'items'`, `'nic'`, and `'act_cost'`. "
   ]
  },
  {
   "cell_type": "code",
   "execution_count": 5,
   "metadata": {},
   "outputs": [
    {
     "data": {
      "text/plain": [
       "[{'bnf_code': '0101010G0AAABAB',\n",
       "  'items': 2,\n",
       "  'practice': 'N81013',\n",
       "  'bnf_name': 'Co-Magaldrox_Susp 195mg/220mg/5ml S/F',\n",
       "  'nic': 5.98,\n",
       "  'act_cost': 5.56,\n",
       "  'quantity': 1000},\n",
       " {'bnf_code': '0101021B0AAAHAH',\n",
       "  'items': 1,\n",
       "  'practice': 'N81013',\n",
       "  'bnf_name': 'Alginate_Raft-Forming Oral Susp S/F',\n",
       "  'nic': 1.95,\n",
       "  'act_cost': 1.82,\n",
       "  'quantity': 500}]"
      ]
     },
     "execution_count": 5,
     "metadata": {},
     "output_type": "execute_result"
    }
   ],
   "source": [
    "scripts[:2]"
   ]
  },
  {
   "cell_type": "markdown",
   "metadata": {},
   "source": [
    "A [glossary of terms](http://webarchive.nationalarchives.gov.uk/20180328130852tf_/http://content.digital.nhs.uk/media/10686/Download-glossary-of-terms-for-GP-prescribing---presentation-level/pdf/PLP_Presentation_Level_Glossary_April_2015.pdf/) and [FAQ](http://webarchive.nationalarchives.gov.uk/20180328130852tf_/http://content.digital.nhs.uk/media/10048/FAQs-Practice-Level-Prescribingpdf/pdf/PLP_FAQs_April_2015.pdf/) is available from the NHS regarding the data. Below we supply a data dictionary briefly describing what these fields mean.\n",
    "\n",
    "| Data field |Description|\n",
    "|:----------:|-----------|\n",
    "|`'practice'`|Code designating the medical practice issuing the prescription|\n",
    "|`'bnf_code'`|British National Formulary drug code|\n",
    "|`'bnf_name'`|British National Formulary drug name|\n",
    "|`'quantity'`|Number of capsules/quantity of liquid/grams of powder prescribed|\n",
    "| `'items'`  |Number of refills (e.g. if `'quantity'` is 30 capsules, 3 `'items'` means 3 bottles of 30 capsules)|\n",
    "|  `'nic'`   |Net ingredient cost|\n",
    "|`'act_cost'`|Total cost including containers, fees, and discounts|"
   ]
  },
  {
   "cell_type": "markdown",
   "metadata": {},
   "source": [
    "The `practices` variable is a list of member medical practices of the NHS. Each practice is represented by a dictionary containing identifying information for the medical practice. Most of the data fields are self-explanatory. Notice the values in the `'code'` field of `practices` match the values in the `'practice'` field of `scripts`."
   ]
  },
  {
   "cell_type": "code",
   "execution_count": 7,
   "metadata": {},
   "outputs": [
    {
     "data": {
      "text/plain": [
       "[{'code': 'A81001',\n",
       "  'name': 'THE DENSHAM SURGERY',\n",
       "  'addr_1': 'THE HEALTH CENTRE',\n",
       "  'addr_2': 'LAWSON STREET',\n",
       "  'borough': 'STOCKTON ON TEES',\n",
       "  'village': 'CLEVELAND',\n",
       "  'post_code': 'TS18 1HU'},\n",
       " {'code': 'A81002',\n",
       "  'name': 'QUEENS PARK MEDICAL CENTRE',\n",
       "  'addr_1': 'QUEENS PARK MEDICAL CTR',\n",
       "  'addr_2': 'FARRER STREET',\n",
       "  'borough': 'STOCKTON ON TEES',\n",
       "  'village': 'CLEVELAND',\n",
       "  'post_code': 'TS18 2AW'}]"
      ]
     },
     "execution_count": 7,
     "metadata": {},
     "output_type": "execute_result"
    }
   ],
   "source": [
    "practices[:2]"
   ]
  },
  {
   "cell_type": "markdown",
   "metadata": {},
   "source": [
    "In the following questions we will ask you to explore this data set. You may need to combine pieces of the data set together in order to answer some questions. Not every element of the data set will be used in answering the questions."
   ]
  },
  {
   "cell_type": "markdown",
   "metadata": {},
   "source": [
    "## Question 1: summary_statistics\n",
    "\n",
    "Our beneficiary data (`scripts`) contains quantitative data on the number of items dispensed (`'items'`), the total quantity of item dispensed (`'quantity'`), the net cost of the ingredients (`'nic'`), and the actual cost to the patient (`'act_cost'`). Whenever working with a new data set, it can be useful to calculate summary statistics to develop a feeling for the volume and character of the data. This makes it easier to spot trends and significant features during further stages of analysis.\n",
    "\n",
    "Calculate the sum, mean, standard deviation, and quartile statistics for each of these quantities. Format your results for each quantity as a list: `[sum, mean, standard deviation, 1st quartile, median, 3rd quartile]`. We'll create a `tuple` with these lists for each quantity as a final result."
   ]
  },
  {
   "cell_type": "code",
   "execution_count": 8,
   "metadata": {},
   "outputs": [],
   "source": [
    "\n",
    "def describe(key):\n",
    "    \n",
    "    try: \n",
    "        total = sum (scripts[i][key] for i in range(len(scripts)))\n",
    "        avg = total/len(scripts)\n",
    "        s =  (sum((float(scripts[i][key] - avg)**2 for i in range(0,len(scripts))))/(len(scripts) - 1))**0.5\n",
    "        sorted_key = sorted(scripts, key = lambda i: i[key])\n",
    "        #sorted_key = scripts[i][key].sort()\n",
    "        q25 = sorted_key[int(len(scripts)/4)][key]\n",
    "        med = sorted_key[int(len(scripts)/2)][key]\n",
    "        q75 = sorted_key[int(len(scripts)*3/4)][key]\n",
    "    except ValueError: \n",
    "        print(\"oops\")\n",
    "       \n",
    "        \n",
    "    return (total, avg, s, q25, med, q75)"
   ]
  },
  {
   "cell_type": "code",
   "execution_count": null,
   "metadata": {},
   "outputs": [],
   "source": []
  },
  {
   "cell_type": "code",
   "execution_count": 9,
   "metadata": {},
   "outputs": [
    {
     "name": "stdout",
     "output_type": "stream",
     "text": [
      "[('items', (4410054, 11.522744731217633, 33.11220959820685, 1, 3, 8)), ('quantity', (316356836, 826.5883059943667, 3872.186073305146, 30, 120, 466)), ('nic', (29048309.790000338, 75.89844899484315, 197.57308474088356, 7.7, 22.62, 65.94)), ('act_cost', (27053937.599999707, 70.68748295124895, 183.26755837716715, 7.25, 21.24, 61.53))]\n"
     ]
    }
   ],
   "source": [
    "summary = [('items', describe('items')),\n",
    "           ('quantity', describe('quantity')),\n",
    "           ('nic', describe('nic')),\n",
    "           ('act_cost', describe('act_cost'))]\n",
    "print(summary)"
   ]
  },
  {
   "cell_type": "code",
   "execution_count": 10,
   "metadata": {},
   "outputs": [
    {
     "name": "stdout",
     "output_type": "stream",
     "text": [
      "==================\n",
      "Your score:  1.0\n",
      "==================\n"
     ]
    }
   ],
   "source": [
    "grader.score.pw__summary_statistics(summary)"
   ]
  },
  {
   "cell_type": "markdown",
   "metadata": {},
   "source": [
    "## Question 2: most_common_item\n",
    "\n",
    "Often we are not interested only in how the data is distributed in our entire data set, but within particular groups -- for example, how many items of each drug (i.e. `'bnf_name'`) were prescribed? Calculate the total items prescribed for each `'bnf_name'`. What is the most commonly prescribed `'bnf_name'` in our data?\n",
    "\n",
    "To calculate this, we first need to split our data set into groups corresponding with the different values of `'bnf_name'`. Then we can sum the number of items dispensed within in each group. Finally we can find the largest sum.\n",
    "\n",
    "We'll use `'bnf_name'` to construct our groups. You should have *5619* unique values for `'bnf_name'`."
   ]
  },
  {
   "cell_type": "code",
   "execution_count": 11,
   "metadata": {},
   "outputs": [],
   "source": [
    "bnf_names = [scripts[key]['bnf_name'] for key in range(len(scripts))]"
   ]
  },
  {
   "cell_type": "code",
   "execution_count": 12,
   "metadata": {},
   "outputs": [
    {
     "data": {
      "text/plain": [
       "['Co-Magaldrox_Susp 195mg/220mg/5ml S/F',\n",
       " 'Alginate_Raft-Forming Oral Susp S/F',\n",
       " 'Sod Algin/Pot Bicarb_Susp S/F',\n",
       " 'Sod Alginate/Pot Bicarb_Tab Chble 500mg',\n",
       " 'Gaviscon Infant_Sach 2g (Dual Pack) S/F']"
      ]
     },
     "execution_count": 12,
     "metadata": {},
     "output_type": "execute_result"
    }
   ],
   "source": [
    "scripts[1]['bnf_name']\n",
    "bnf_names[0:5]"
   ]
  },
  {
   "cell_type": "markdown",
   "metadata": {},
   "source": [
    "We want to construct \"groups\" identified by `'bnf_name'`, where each group is a collection of prescriptions (i.e. dictionaries from `scripts`). We'll construct a dictionary called `groups`, using `bnf_names` as the keys. We'll represent a group with a `list`, since we can easily append new members to the group. To split our `scripts` into groups by `'bnf_name'`, we should iterate over `scripts`, appending prescription dictionaries to each group as we encounter them."
   ]
  },
  {
   "cell_type": "code",
   "execution_count": 13,
   "metadata": {},
   "outputs": [],
   "source": [
    "groups = {name: [] for name in bnf_names}\n",
    "for script in scripts:\n",
    "    groups[script['bnf_name']].append(script) "
   ]
  },
  {
   "cell_type": "code",
   "execution_count": 14,
   "metadata": {},
   "outputs": [],
   "source": [
    "#for script in scripts:\n",
    "#   print(script['bnf_name'])"
   ]
  },
  {
   "cell_type": "markdown",
   "metadata": {},
   "source": [
    "Now that we've constructed our groups we should sum up `'items'` in each group and find the `'bnf_name'` with the largest sum. The result, `max_item`, should have the form `[(bnf_name, item total)]`, e.g. `[('Foobar', 2000)]`."
   ]
  },
  {
   "cell_type": "code",
   "execution_count": 15,
   "metadata": {},
   "outputs": [
    {
     "data": {
      "text/plain": [
       "[('Omeprazole_Cap E/C 20mg', 113826)]"
      ]
     },
     "execution_count": 15,
     "metadata": {},
     "output_type": "execute_result"
    }
   ],
   "source": [
    "max_item = []\n",
    "item_values = []\n",
    "item_total = 0\n",
    "tuple_list = []\n",
    "\n",
    "for k, v in groups.items():\n",
    "    item_name = k\n",
    "    item_total = 0\n",
    "    item_values = v\n",
    "    for value in item_values:\n",
    "        item_total = item_total + value['items']\n",
    "        \n",
    "    tuple_list.append(tuple([item_name, item_total]))\n",
    "    \n",
    "tuple_list.sort(key = lambda x: x[1]) \n",
    "max_item.append(tuple_list[-1])\n",
    "max_item\n",
    "    \n",
    "        "
   ]
  },
  {
   "cell_type": "markdown",
   "metadata": {},
   "source": [
    "**TIP:** If you are getting an error from the grader below, please make sure your answer conforms to the correct format of `[(bnf_name, item total)]`."
   ]
  },
  {
   "cell_type": "code",
   "execution_count": 16,
   "metadata": {},
   "outputs": [
    {
     "name": "stdout",
     "output_type": "stream",
     "text": [
      "==================\n",
      "Your score:  1.0\n",
      "==================\n"
     ]
    }
   ],
   "source": [
    "grader.score.pw__most_common_item(max_item)"
   ]
  },
  {
   "cell_type": "markdown",
   "metadata": {},
   "source": [
    "**Challenge:** Write a function that constructs groups as we did above. The function should accept a list of dictionaries (e.g. `scripts` or `practices`) and a tuple of fields to `groupby` (e.g. `('bnf_name')` or `('bnf_name', 'post_code')`) and returns a dictionary of groups. The following questions will require you to aggregate data in groups, so this could be a useful function for the rest of the miniproject."
   ]
  },
  {
   "cell_type": "code",
   "execution_count": 28,
   "metadata": {},
   "outputs": [],
   "source": [
    "def group_by_field(data, fields):\n",
    "    new_dict = {} \n",
    "    groupby_titles = dict(fields)\n",
    "\n",
    "# groups = {name: [] for name in bnf_names} or script in scripts:\n",
    "# groups[script['bnf_name']].append(script) \n",
    "\n"
   ]
  },
  {
   "cell_type": "markdown",
   "metadata": {},
   "source": [
    "https://www.saltycrane.com/blog/2014/10/example-using-groupby-and-defaultdict-do-same-task/"
   ]
  },
  {
   "cell_type": "code",
   "execution_count": null,
   "metadata": {
    "scrolled": true
   },
   "outputs": [],
   "source": [
    "groups = group_by_field(scripts, ('bnf_name',))\n",
    "test_max_item = max(group['item'] for group in groups)\n",
    "\n",
    "assert test_max_item == max_item"
   ]
  },
  {
   "cell_type": "markdown",
   "metadata": {},
   "source": [
    "## Question 3: postal_totals\n",
    "\n",
    "Our data set is broken up among different files. This is typical for tabular data to reduce redundancy. Each table typically contains data about a particular type of event, processes, or physical object. Data on prescriptions and medical practices are in separate files in our case. If we want to find the total items prescribed in each postal code, we will have to _join_ our prescription data (`scripts`) to our clinic data (`practices`).\n",
    "\n",
    "Find the total items prescribed in each postal code, representing the results as a list of tuples `(post code, total items prescribed)`. Sort your results ascending alphabetically by post code and take only results from the first 100 post codes. Only include post codes if there is at least one prescription from a practice in that post code.\n",
    "\n",
    "**NOTE:** Some practices have multiple postal codes associated with them. Use the alphabetically first postal code."
   ]
  },
  {
   "cell_type": "markdown",
   "metadata": {},
   "source": [
    "We can join `scripts` and `practices` based on the fact that `'practice'` in `scripts` matches `'code'` in `practices`. However, we must first deal with the repeated values of `'code'` in `practices`. We want the alphabetically first postal codes."
   ]
  },
  {
   "cell_type": "code",
   "execution_count": 8,
   "metadata": {},
   "outputs": [
    {
     "data": {
      "text/plain": [
       "'HP21 8TR'"
      ]
     },
     "execution_count": 8,
     "metadata": {},
     "output_type": "execute_result"
    }
   ],
   "source": [
    "from collections import defaultdict\n",
    "group_by = defaultdict(list)\n",
    "for practice in practices:\n",
    "    #for key,value in practice.items():\n",
    "        key_string = practice['code']\n",
    "        mylist = []\n",
    "        mylist.append(practice)\n",
    "        group_by[key_string].append(mylist)\n",
    "    \n",
    "\n",
    "    \n",
    "practice_postal = dict(group_by)\n",
    "for code in practice_postal.keys():\n",
    "        for i in range(len(practice_postal[code])):\n",
    "            if practice_postal[code][0][0]['post_code'] == min((str(practice_postal[code][0][0]['post_code'])), str(practice_postal[code][i][0]['post_code'])):\n",
    "                None\n",
    "            else:\n",
    "                practice_postal[code][0][0].update(practice_postal[code][i][0])\n",
    "\n",
    "for key,value in practice_postal.items():\n",
    "    if key == '0':\n",
    "        print(\"there is  0 value\")\n",
    "    else: \n",
    "        practice_postal[key] = value[0][0]['post_code']  \n",
    "        \n",
    "practice_postal['K82019']\n",
    "        \n"
   ]
  },
  {
   "cell_type": "markdown",
   "metadata": {},
   "source": [
    "https://stackoverflow.com/questions/13264511/typeerror-unhashable-type-dict"
   ]
  },
  {
   "cell_type": "markdown",
   "metadata": {},
   "source": [
    "#for key,value in practice_postal.items():\n",
    "  if key == '0':\n",
    "       print(\"there is  0 value\")\n",
    "    else: \n",
    "    #    practice_postal[key] = value[0]   \n",
    "#practice_postal['K82019']\n",
    "#group_by['K82019']  \n",
    "test_pref = 'K82019'\n",
    "#for practice in practices:\n",
    "res = {key:val for key, val in group_by.items() if key.startswith(test_pref)} \n",
    "  \n",
    "print(\"Filtered dictionary keys are : \" + str(res)) \n",
    "\n",
    "\n",
    "test_pref = 'K82019'\n",
    "for practice in practices:\n",
    "    for k,v in practice.items():\n",
    "        if practice[k] == 'K82019':\n",
    "            print(\"------------------------\")\n",
    "            print(practice)\n",
    "\n",
    "    "
   ]
  },
  {
   "cell_type": "markdown",
   "metadata": {},
   "source": [
    "**Challenge:** This is an aggregation of the practice data grouped by practice codes. Write an alternative implementation of the above cell using the `group_by_field` function you defined previously."
   ]
  },
  {
   "cell_type": "code",
   "execution_count": 9,
   "metadata": {},
   "outputs": [],
   "source": [
    "assert practice_postal['K82019'] == 'HP21 8TR'\n"
   ]
  },
  {
   "cell_type": "markdown",
   "metadata": {},
   "source": [
    "Now we can join `practice_postal` to `scripts`."
   ]
  },
  {
   "cell_type": "code",
   "execution_count": 10,
   "metadata": {},
   "outputs": [],
   "source": [
    "joined = scripts[:]\n",
    "for abc in joined:\n",
    "    abc['post_code'] = practice_postal[abc['practice']]\n",
    "     "
   ]
  },
  {
   "cell_type": "code",
   "execution_count": 11,
   "metadata": {},
   "outputs": [],
   "source": [
    "postjoinedcode = [joined[i]['post_code'] for i in range(len(joined))]\n",
    "newgroups = {name: [] for name in postjoinedcode}\n",
    "for abc in joined:\n",
    "    newgroups[abc['post_code']].append(abc) "
   ]
  },
  {
   "cell_type": "markdown",
   "metadata": {},
   "source": [
    "Finally we'll group the prescription dictionaries in `joined` by `'post_code'` and sum up the items prescribed in each group, as we did in the previous question."
   ]
  },
  {
   "cell_type": "code",
   "execution_count": 12,
   "metadata": {},
   "outputs": [],
   "source": [
    "\n",
    "item_values = []\n",
    "\n",
    "tuple_list = []\n",
    "\n",
    "for k, v in newgroups.items():\n",
    "    item_total = 0\n",
    "    postcode = k\n",
    "    item_values = v\n",
    "    for value in item_values:\n",
    "        item_total = item_total + value['items']\n",
    "        \n",
    "    tuple_list.append(tuple([postcode, item_total]))\n",
    "    \n",
    "tuple_list.sort(key = lambda x: x[0]) \n",
    "\n",
    "my_100_list = tuple_list[:100]\n",
    "           \n",
    "            \n"
   ]
  },
  {
   "cell_type": "code",
   "execution_count": 25,
   "metadata": {},
   "outputs": [
    {
     "name": "stdout",
     "output_type": "stream",
     "text": [
      "==================\n",
      "Your score:  1.0\n",
      "==================\n"
     ]
    }
   ],
   "source": [
    "postal_totals = my_100_list\n",
    "\n",
    "grader.score.pw__postal_totals(postal_totals)"
   ]
  },
  {
   "cell_type": "markdown",
   "metadata": {},
   "source": [
    "## Question 4: items_by_region\n",
    "\n",
    "Now we'll combine the techniques we've developed to answer a more complex question. Find the most commonly dispensed item in each postal code, representing the results as a list of tuples (`post_code`, `bnf_name`, amount dispensed as proportion of total). Sort your results ascending alphabetically by post code and take only results from the first 100 post codes.\n",
    "\n",
    "**NOTE:** We'll continue to use the `joined` variable we created before, where we've chosen the alphabetically first postal code for each practice. Additionally, some postal codes will have multiple `'bnf_name'` with the same number of items prescribed for the maximum. In this case, we'll take the alphabetically first `'bnf_name'`."
   ]
  },
  {
   "cell_type": "markdown",
   "metadata": {},
   "source": [
    "Now we need to calculate the total items of each `'bnf_name'` prescribed in each `'post_code'`. Use the techniques we developed in the previous questions to calculate these totals. You should have 141196 `('post_code', 'bnf_name')` groups."
   ]
  },
  {
   "cell_type": "code",
   "execution_count": 13,
   "metadata": {},
   "outputs": [],
   "source": [
    "from collections import defaultdict\n",
    "total_items_by_bnf_post = defaultdict(list)\n",
    "\n",
    "for script in joined:\n",
    "    total_items_by_bnf_post[script['post_code'], script['bnf_name']].append(script)\n",
    "   \n",
    "sorted_dict = dict(sorted(total_items_by_bnf_post.items()))\n"
   ]
  },
  {
   "cell_type": "code",
   "execution_count": 14,
   "metadata": {},
   "outputs": [],
   "source": [
    "total_items_by_bnf_post = sorted_dict\n",
    "\n",
    "    \n",
    "    \n",
    "assert len(total_items_by_bnf_post) == 141196"
   ]
  },
  {
   "cell_type": "markdown",
   "metadata": {},
   "source": [
    "Let's use `total_items` to find the maximum item total for each postal code. To do this, we will want to regroup `total_items_by_bnf_post` by `'post_code'` only, not by `('post_code', 'bnf_name')`. First let's turn `total_items` into a list of dictionaries (similar to `scripts` or `practices`) and then group it by `'post_code'`. You should have 118 groups in the resulting `total_items_by_post` after grouping `total_items` by `'post_code'`."
   ]
  },
  {
   "cell_type": "code",
   "execution_count": 15,
   "metadata": {},
   "outputs": [
    {
     "data": {
      "text/plain": [
       "118"
      ]
     },
     "execution_count": 15,
     "metadata": {},
     "output_type": "execute_result"
    }
   ],
   "source": [
    "\n",
    "total_items = []\n",
    "newdict = defaultdict(list)\n",
    "for key,value in total_items_by_bnf_post.items():\n",
    "    newdict[key[0]].append(value)\n",
    "    \n",
    "\n",
    "#print(\"here is my new dict\")\n",
    "#newdict\n",
    "        \n",
    "for key, value in newdict.items(): \n",
    "    l = {}\n",
    "    l[key] = value\n",
    "    total_items.append(l)\n",
    "    \n",
    "\n",
    "    \n",
    "    \n",
    "        \n",
    "\n",
    "    \n",
    "total_items_by_post = total_items    \n",
    "len(total_items)\n",
    "    \n",
    "#assert len(total_items_by_post) == 118\n"
   ]
  },
  {
   "cell_type": "code",
   "execution_count": 15,
   "metadata": {},
   "outputs": [],
   "source": [
    "assert len(total_items_by_post) == 118"
   ]
  },
  {
   "cell_type": "markdown",
   "metadata": {},
   "source": [
    "Now we will aggregate the groups in `total_by_item_post` to create `max_item_by_post`. Some `'bnf_name'` have the same item total within a given postal code. Therefore, if more than one `'bnf_name'` has the maximum item total in a given postal code, we'll take the alphabetically first `'bnf_name'`. We can do this by [sorting](https://docs.python.org/2.7/howto/sorting.html) each group according to the item total and `'bnf_name'`."
   ]
  },
  {
   "cell_type": "code",
   "execution_count": 16,
   "metadata": {},
   "outputs": [
    {
     "data": {
      "text/plain": [
       "[('B11 4BW', '3m Health Care_Cavilon Durable Barrier C', 7),\n",
       " ('B11 4BW', '3m Health Care_Cavilon No Sting Barrier', 2),\n",
       " ('B11 4BW', 'Abidec_Dps', 63),\n",
       " ('B11 4BW', 'Acetic Acid_Ear Spy 2% 5ml', 9),\n",
       " ('B11 4BW', 'Aciclovir_Crm 5%', 13),\n",
       " ('B11 4BW', 'Aciclovir_Tab 200mg', 4),\n",
       " ('B11 4BW', 'Aciclovir_Tab 800mg', 9),\n",
       " ('B11 4BW', 'Aciclovir_Tab Disper 400mg', 2),\n",
       " ('B11 4BW', 'Adalat LA 30_Tab 30mg', 3),\n",
       " ('B11 4BW', 'Adalat LA 60_Tab 60mg', 11)]"
      ]
     },
     "execution_count": 16,
     "metadata": {},
     "output_type": "execute_result"
    }
   ],
   "source": [
    "max_item_by_post = []\n",
    "\n",
    "puple_list = []\n",
    "count = 0\n",
    "for onedef_dict in total_items:\n",
    "        for k,v in onedef_dict.items():\n",
    "            item_total = 0\n",
    "            postcode= k\n",
    "            for value in v:\n",
    "                item_total = 0\n",
    "                #print(\"the length of this v[1] is \" + str(len(v[1])))\n",
    "                #print(value)\n",
    "                #print(\"------------------------\") \n",
    "                \n",
    "                for val in value:\n",
    "                    \n",
    "                    item_total = item_total + int(val['items'])\n",
    "                    bnf_name = val['bnf_name'] \n",
    "                    #print(\"the bnf name assigned is \" + val['bnf_name'] )\n",
    "                l = tuple([postcode, bnf_name, item_total])\n",
    "                    #print (l)\n",
    "                puple_list.append(l)\n",
    "        #print(\"---------Every POstal change--------------------------- \")\n",
    "        \n",
    "puple_list[:10]  \n",
    "#print(len(puple_list))\n",
    "#print(count)\n",
    "#print(len)\n",
    "\n"
   ]
  },
  {
   "cell_type": "markdown",
   "metadata": {},
   "source": [
    "In order to express the item totals as a proportion of the total amount of items prescribed across all `'bnf_name'` in a postal code, we'll need to use the total items prescribed that we previously calculated as `items_by_post`. Calculate the proportions for the most common `'bnf_names'` for each postal code. Format your answer as a list of tuples: `[(post_code, bnf_name, total)]`"
   ]
  },
  {
   "cell_type": "code",
   "execution_count": 47,
   "metadata": {},
   "outputs": [
    {
     "name": "stdout",
     "output_type": "stream",
     "text": [
      "[20673, 19001, 29103, 24859, 36531, 34356, 28254, 54514, 29388, 44585]\n"
     ]
    },
    {
     "data": {
      "text/plain": [
       "[('B11 4BW', 'Salbutamol_Inha 100mcg (200 D) CFF', 0.03415082474725487),\n",
       " ('B18 7AL', 'Salbutamol_Inha 100mcg (200 D) CFF', 0.02926161780958897),\n",
       " ('B21 9RY', 'Metformin HCl_Tab 500mg', 0.03549462254750369),\n",
       " ('B23 6DJ', 'Lansoprazole_Cap 30mg (E/C Gran)', 0.024095900880968663),\n",
       " ('B70 7AW', 'Paracet_Tab 500mg', 0.0266896608360023),\n",
       " ('BB11 2DL', 'Omeprazole_Cap E/C 20mg', 0.02884503434625684),\n",
       " ('BB2 1AX', 'Omeprazole_Cap E/C 20mg', 0.03645501521908402),\n",
       " ('BB3 1PY', 'Omeprazole_Cap E/C 20mg', 0.03428477088454342),\n",
       " ('BB4 5SL', 'Omeprazole_Cap E/C 20mg', 0.040696883081529876),\n",
       " ('BB7 2JG', 'Omeprazole_Cap E/C 20mg', 0.029471795446899183),\n",
       " ('BB8 0JZ', 'Atorvastatin_Tab 20mg', 0.022563442442074293),\n",
       " ('BB9 7SR', 'Omeprazole_Cap E/C 20mg', 0.023833193804939305),\n",
       " ('BD3 8QH', 'Atorvastatin_Tab 40mg', 0.03422179914326511),\n",
       " ('BH18 8EE', 'Omeprazole_Cap E/C 20mg', 0.029000583563798747),\n",
       " ('BH23 3AF', 'Omeprazole_Cap E/C 20mg', 0.03733292364418497),\n",
       " ('BL1 8TU', 'Omeprazole_Cap E/C 20mg', 0.03095821215368131),\n",
       " ('BL3 5HP', 'Omeprazole_Cap E/C 20mg', 0.03359487236158692),\n",
       " ('BL9 0NJ', 'Omeprazole_Cap E/C 20mg', 0.033622356683924895),\n",
       " ('BL9 0SN', 'Omeprazole_Cap E/C 20mg', 0.03257264351523742),\n",
       " ('CB9 8HF', 'Omeprazole_Cap E/C 20mg', 0.03586107485828934),\n",
       " ('CH1 4DS', 'Lansoprazole_Cap 30mg (E/C Gran)', 0.026979808105398826),\n",
       " ('CH65 6TG', 'Lansoprazole_Cap 30mg (E/C Gran)', 0.027421283379832604),\n",
       " ('CT11 8AD', 'Omeprazole_Cap E/C 20mg', 0.02371612786870463),\n",
       " ('CV1 4FS', 'Omeprazole_Cap E/C 20mg', 0.02988443966675625),\n",
       " ('CW1 3AW', 'Omeprazole_Cap E/C 20mg', 0.03687757394234369),\n",
       " ('CW5 5NX', 'Omeprazole_Cap E/C 20mg', 0.036574992911823076),\n",
       " ('CW7 1AT', 'Omeprazole_Cap E/C 20mg', 0.038342136965990176),\n",
       " ('DA1 2HA', 'Omeprazole_Cap E/C 20mg', 0.020977948226270374),\n",
       " ('DA11 8BZ', 'Amoxicillin_Cap 500mg', 0.021502698215026983),\n",
       " ('DN22 7XF', 'Simvastatin_Tab 40mg', 0.019888143695899377),\n",
       " ('DN34 4GB', 'Omeprazole_Cap E/C 20mg', 0.03894778497490263),\n",
       " ('FY2 0JG', 'Omeprazole_Cap E/C 20mg', 0.03794959344888452),\n",
       " ('FY4 1TJ', 'Omeprazole_Cap E/C 20mg', 0.04512928155710333),\n",
       " ('FY5 2TZ', 'Omeprazole_Cap E/C 20mg', 0.037575127660535945),\n",
       " ('FY7 8GU', 'Omeprazole_Cap E/C 20mg', 0.03420067879209816),\n",
       " ('GL1 3PX', 'Omeprazole_Cap E/C 20mg', 0.027334732423924448),\n",
       " ('GL50 4DP', 'Omeprazole_Cap E/C 20mg', 0.02469861805351367),\n",
       " ('GU9 9QS', 'Omeprazole_Cap E/C 20mg', 0.028601661946406898),\n",
       " ('HA0 4UZ', 'Metformin HCl_Tab 500mg', 0.02961986376620523),\n",
       " ('HA3 7LT', 'Omeprazole_Cap E/C 20mg', 0.0265001712702021),\n",
       " ('HG1 5AR', 'Omeprazole_Cap E/C 20mg', 0.030014686084934523),\n",
       " ('HU7 4DW', 'Salbutamol_Inha 100mcg (200 D) CFF', 0.026594986458142424),\n",
       " ('KT14 6DH', 'Amlodipine_Tab 5mg', 0.01980716047537185),\n",
       " ('KT6 6EZ', 'Omeprazole_Cap E/C 20mg', 0.029557408595253368),\n",
       " ('L31 0DJ', 'Omeprazole_Cap E/C 20mg', 0.031093092156556992),\n",
       " ('L36 7XY', 'Salbutamol_Inha 100mcg (200 D) CFF', 0.0304811669932506),\n",
       " ('L5 0QW', 'Omeprazole_Cap E/C 20mg', 0.03383854757659264),\n",
       " ('L7 6HD', 'Salbutamol_Inha 100mcg (200 D) CFF', 0.026874016302943456),\n",
       " ('LA1 1PN', 'Omeprazole_Cap E/C 20mg', 0.03593535438892997),\n",
       " ('LE10 1DS', 'Aspirin Disper_Tab 75mg', 0.02211411776629168),\n",
       " ('LE18 2EW', 'Lansoprazole_Cap 15mg (E/C Gran)', 0.026545337066551798),\n",
       " ('LE5 3GH', 'Metformin HCl_Tab 500mg', 0.0354924268862986),\n",
       " ('LN2 2JP', 'Omeprazole_Cap E/C 20mg', 0.036189981157819504),\n",
       " ('LS9 9EF', 'Lansoprazole_Cap 30mg (E/C Gran)', 0.03184116875819442),\n",
       " ('M11 4EJ', 'Omeprazole_Cap E/C 20mg', 0.03207286540619874),\n",
       " ('M26 2SP', 'Omeprazole_Cap E/C 20mg', 0.04085582480513283),\n",
       " ('M30 0NU', 'Omeprazole_Cap E/C 20mg', 0.03824666953158573),\n",
       " ('M35 0AD', 'Omeprazole_Cap E/C 20mg', 0.03085140306122449),\n",
       " ('ME8 8AA', 'Omeprazole_Cap E/C 20mg', 0.02328067466444946),\n",
       " ('N9 7HD', 'Lansoprazole_Cap 30mg (E/C Gran)', 0.026281508499967434),\n",
       " ('NE10 9QG', 'Paracet_Tab 500mg', 0.044305701820370094),\n",
       " ('NE24 1DX', 'Paracet_Tab 500mg', 0.0320651205165277),\n",
       " ('NE37 2PU', 'Paracet_Tab 500mg', 0.02777391304347826),\n",
       " ('NE38 7NQ', 'Paracet_Tab 500mg', 0.031134594625305382),\n",
       " ('NG7 3GW', 'Paracet_Tab 500mg', 0.022318906091083737),\n",
       " ('NG7 5HY', 'Paracet_Tab 500mg', 0.02509737782596474),\n",
       " ('NN16 8DN', 'Omeprazole_Cap E/C 20mg', 0.03547300624372181),\n",
       " ('NW10 8RY', 'Metformin HCl_Tab 500mg', 0.030900570686215375),\n",
       " ('OL1 1NL', 'Omeprazole_Cap E/C 20mg', 0.033425912390975976),\n",
       " ('OL11 1DN', 'Omeprazole_Cap E/C 20mg', 0.032178791672462556),\n",
       " ('OL4 1YN', 'Omeprazole_Cap E/C 20mg', 0.02989427633977397),\n",
       " ('OL9 7AY', 'Omeprazole_Cap E/C 20mg', 0.03317602310347256),\n",
       " ('PL7 1AD', 'Omeprazole_Cap E/C 20mg', 0.03856973759050591),\n",
       " ('RM3 9SU', 'Salbutamol_Inha 100mcg (200 D) CFF', 0.027516093578269743),\n",
       " ('S63 9EH', 'Salbutamol_Inha 100mcg (200 D) CFF', 0.03003995745537126),\n",
       " ('S65 1DA', 'Influenza_Vac Inact 0.5ml Pfs', 0.023771326534882748),\n",
       " ('S74 9AF', 'Omeprazole_Cap E/C 20mg', 0.035946116987614136),\n",
       " ('SE1 6JP', 'Metformin HCl_Tab 500mg', 0.023339995558516544),\n",
       " ('SE15 5LJ', 'Metformin HCl_Tab 500mg', 0.02451173155066195),\n",
       " ('SK11 6JL', 'Omeprazole_Cap E/C 20mg', 0.029244760200234393),\n",
       " ('SK6 1ND', 'Lansoprazole_Cap 30mg (E/C Gran)', 0.019072510860735352),\n",
       " ('SM3 8EP', 'Omeprazole_Cap E/C 20mg', 0.02976166633286601),\n",
       " ('SM6 0HY', 'Omeprazole_Cap E/C 20mg', 0.03170636300417246),\n",
       " ('SR4 7XF', 'Paracet_Tab 500mg', 0.03414722227795277),\n",
       " ('SR5 2LT', 'Paracet_Tab 500mg', 0.03603964806771355),\n",
       " ('SS0 7AF', 'Omeprazole_Cap E/C 20mg', 0.02118781584681719),\n",
       " ('SS13 3HQ', 'Lansoprazole_Cap 30mg (E/C Gran)', 0.025575779606885986),\n",
       " ('SS8 0JA', 'Omeprazole_Cap E/C 20mg', 0.026893212353864944),\n",
       " ('SS9 5UU', 'Influvac Sub-Unit_Vac 0.5ml Pfs', 0.02536884460624641),\n",
       " ('ST1 4PB', 'Omeprazole_Cap E/C 20mg', 0.029595079869567012),\n",
       " ('ST3 6AB', 'Omeprazole_Cap E/C 20mg', 0.03128794729363132),\n",
       " ('ST8 6AG', 'Omeprazole_Cap E/C 20mg', 0.03963379302352532),\n",
       " ('TN24 0GP', 'Amoxicillin_Cap 500mg', 0.08493069890887643),\n",
       " ('TN34 1BA', 'Omeprazole_Cap E/C 20mg', 0.03102866779089376),\n",
       " ('TR1 2JA', 'Omeprazole_Cap E/C 20mg', 0.04630044285216699),\n",
       " ('TS1 2NX', 'Paracet_Tab 500mg', 0.027549713373789975),\n",
       " ('TS10 4NW', 'Paracet_Tab 500mg', 0.023228006465755853),\n",
       " ('TS17 0EE', 'Lansoprazole_Cap 30mg (E/C Gran)', 0.025048254079663098),\n",
       " ('TS23 2DG', 'Paracet_Tab 500mg', 0.025532452758642483),\n",
       " ('TS24 7PW', 'Paracet_Tab 500mg', 0.03858642431322693)]"
      ]
     },
     "execution_count": 47,
     "metadata": {},
     "output_type": "execute_result"
    }
   ],
   "source": [
    "from operator import itemgetter, attrgetter\n",
    "\n",
    "s = sorted(puple_list, key=itemgetter(2), reverse=True)\n",
    "\n",
    "finaltup = sorted(s, key=itemgetter(0))\n",
    "prevtup = finaltup[0][0]\n",
    "postsum = 0\n",
    "r = 0\n",
    "postalsumlist = []\n",
    "for tup in finaltup:\n",
    "    if str(tup[0]) == str(prevtup):\n",
    "        \n",
    "        postsum = postsum + tup[2]\n",
    "        #print('jndvc')\n",
    "        prevtup = tup[0]\n",
    "        r+=1\n",
    "        if r == (len(finaltup)-1):\n",
    "            postalsumlist.append(postsum) \n",
    "            break\n",
    "    else:\n",
    "        r +=1\n",
    "        postalsumlist.append(postsum)\n",
    "        postsum = tup[2]\n",
    "        prevtup = tup[0]\n",
    "        #print('jndvc')\n",
    "        None\n",
    "\n",
    "i=0 \n",
    "prevtup = finaltup[0][0]\n",
    "tupandtotallist = []\n",
    "for tup in finaltup:\n",
    "    if str(tup[0]) == str(prevtup):\n",
    "        tupandtotallist.append(postalsumlist[i])\n",
    "        \n",
    "    else:\n",
    "        prevtup = tup[0]\n",
    "        i +=1\n",
    "        tupandtotallist.append(postalsumlist[i])\n",
    "      \n",
    "print(postalsumlist[0:10])\n",
    "i= 0\n",
    "ratiotup = []\n",
    "prevtup = finaltup[0]\n",
    "for tup in finaltup:\n",
    "    n = tup[2]/tupandtotallist[i]\n",
    "    i +=1\n",
    "    ratiotup.append(tuple([tup[0], tup[1],  n]))\n",
    "    \n",
    "\n",
    "counter = 0\n",
    "postlist = []\n",
    "firstpost100 = []\n",
    "for tup in ratiotup:\n",
    "    if tup[0] not in postlist and counter <100:\n",
    "        firstpost100.append(tup)\n",
    "        postlist.append(tup[0])\n",
    "        counter +=1\n",
    "        \n",
    "    else: \n",
    "        None\n",
    "\n",
    "firstpost100         "
   ]
  },
  {
   "cell_type": "code",
   "execution_count": 48,
   "metadata": {},
   "outputs": [],
   "source": [
    "items_by_region = firstpost100[:100]"
   ]
  },
  {
   "cell_type": "code",
   "execution_count": 49,
   "metadata": {},
   "outputs": [
    {
     "name": "stdout",
     "output_type": "stream",
     "text": [
      "==================\n",
      "Your score:  1.0\n",
      "==================\n"
     ]
    }
   ],
   "source": [
    "grader.score.pw__items_by_region(items_by_region)"
   ]
  },
  {
   "cell_type": "markdown",
   "metadata": {},
   "source": [
    "*Copyright &copy; 2020 The Data Incubator.  All rights reserved.*"
   ]
  }
 ],
 "metadata": {
  "kernelspec": {
   "display_name": "Python 3",
   "language": "python",
   "name": "python3"
  },
  "language_info": {
   "codemirror_mode": {
    "name": "ipython",
    "version": 3
   },
   "file_extension": ".py",
   "mimetype": "text/x-python",
   "name": "python",
   "nbconvert_exporter": "python",
   "pygments_lexer": "ipython3",
   "version": "3.7.3"
  },
  "nbclean": true
 },
 "nbformat": 4,
 "nbformat_minor": 1
}

{
  "nbformat": 4,
  "nbformat_minor": 0,
  "metadata": {
    "colab": {
      "name": "Hack prediction-Decision Tree",
      "provenance": [],
      "collapsed_sections": [],
      "machine_shape": "hm"
    },
    "kernelspec": {
      "name": "python3",
      "display_name": "Python 3"
    }
  },
  "cells": [
    {
      "cell_type": "markdown",
      "metadata": {
        "id": "ym-S3J2DzqZR",
        "colab_type": "text"
      },
      "source": [
        "All the countries across the globe have adapted to means of digital payments. And with the increased volume of digital payments, hacking has become a pretty common event wherein the hacker can try to hack your details just with your phone number linked to your bank account. However, there is data with some anonymized variables based on which one can predict that the hack is going to happen.\n",
        "\n"
      ]
    },
    {
      "cell_type": "markdown",
      "metadata": {
        "id": "dTNc4QAmzFhE",
        "colab_type": "text"
      },
      "source": [
        "Right now I am facing an issue of converting date time to feature vector. I have used Label encoder for one of the columns and basically want to know"
      ]
    },
    {
      "cell_type": "markdown",
      "metadata": {
        "id": "KxtJdZZLQJSd",
        "colab_type": "text"
      },
      "source": [
        "# Server Attack Prediction EDA"
      ]
    },
    {
      "cell_type": "markdown",
      "metadata": {
        "id": "LWd1UlMnhT2s",
        "colab_type": "text"
      },
      "source": [
        "## Importing the libraries"
      ]
    },
    {
      "cell_type": "code",
      "metadata": {
        "id": "xhLuF6tAQUnV",
        "colab_type": "code",
        "colab": {}
      },
      "source": [
        "import numpy as np\n",
        "import matplotlib.pyplot as plt\n",
        "import pandas as pd\n",
        "from datetime import datetime\n",
        "import seaborn as sns\n",
        "import pandas.util.testing as tm\n",
        "from sklearn.metrics import confusion_matrix, accuracy_score\n",
        "from sklearn.impute import SimpleImputer\n",
        "from sklearn.preprocessing import LabelEncoder\n",
        "from sklearn.model_selection import train_test_split\n",
        "from sklearn.preprocessing import StandardScaler\n",
        "from sklearn.tree import DecisionTreeClassifier\n",
        "from sklearn.model_selection import cross_val_score\n",
        "from sklearn.metrics import confusion_matrix, accuracy_score\n"
      ],
      "execution_count": 50,
      "outputs": []
    },
    {
      "cell_type": "markdown",
      "metadata": {
        "id": "0pyyscGmTpiz",
        "colab_type": "text"
      },
      "source": [
        "Upload the Train csv file in the Uploads section of colab"
      ]
    },
    {
      "cell_type": "code",
      "metadata": {
        "id": "Yva6NbXoToaq",
        "colab_type": "code",
        "colab": {
          "base_uri": "https://localhost:8080/",
          "height": 752
        },
        "outputId": "eb4ab53a-16ee-401e-a7dc-9fbb8fbed034"
      },
      "source": [
        "dataset = pd.read_csv('Train.csv')\n",
        "dataset_eda = dataset.drop(['INCIDENT_ID', 'MULTIPLE_OFFENSE'], axis = 1)\n",
        "print(dataset.describe())\n",
        "print(\"Number of Offenses in Train data, 1: Attack happened 0: No attack\")\n",
        "print(dataset['MULTIPLE_OFFENSE'].value_counts())\n",
        "dataset.info()"
      ],
      "execution_count": 27,
      "outputs": [
        {
          "output_type": "stream",
          "text": [
            "                X_1           X_2  ...          X_15  MULTIPLE_OFFENSE\n",
            "count  23856.000000  23856.000000  ...  23856.000000      23856.000000\n",
            "mean       0.483778     24.791206  ...     33.464747          0.955231\n",
            "std        1.439738     15.240231  ...      8.386834          0.206800\n",
            "min        0.000000      0.000000  ...      0.000000          0.000000\n",
            "25%        0.000000      7.000000  ...     34.000000          1.000000\n",
            "50%        0.000000     24.000000  ...     34.000000          1.000000\n",
            "75%        0.000000     36.000000  ...     34.000000          1.000000\n",
            "max        7.000000     52.000000  ...     50.000000          1.000000\n",
            "\n",
            "[8 rows x 16 columns]\n",
            "Number of Offenses in Train data, 1: Attack happened 0: No attack\n",
            "1    22788\n",
            "0     1068\n",
            "Name: MULTIPLE_OFFENSE, dtype: int64\n",
            "<class 'pandas.core.frame.DataFrame'>\n",
            "RangeIndex: 23856 entries, 0 to 23855\n",
            "Data columns (total 18 columns):\n",
            " #   Column            Non-Null Count  Dtype  \n",
            "---  ------            --------------  -----  \n",
            " 0   INCIDENT_ID       23856 non-null  object \n",
            " 1   DATE              23856 non-null  object \n",
            " 2   X_1               23856 non-null  int64  \n",
            " 3   X_2               23856 non-null  int64  \n",
            " 4   X_3               23856 non-null  int64  \n",
            " 5   X_4               23856 non-null  int64  \n",
            " 6   X_5               23856 non-null  int64  \n",
            " 7   X_6               23856 non-null  int64  \n",
            " 8   X_7               23856 non-null  int64  \n",
            " 9   X_8               23856 non-null  int64  \n",
            " 10  X_9               23856 non-null  int64  \n",
            " 11  X_10              23856 non-null  int64  \n",
            " 12  X_11              23856 non-null  int64  \n",
            " 13  X_12              23674 non-null  float64\n",
            " 14  X_13              23856 non-null  int64  \n",
            " 15  X_14              23856 non-null  int64  \n",
            " 16  X_15              23856 non-null  int64  \n",
            " 17  MULTIPLE_OFFENSE  23856 non-null  int64  \n",
            "dtypes: float64(1), int64(15), object(2)\n",
            "memory usage: 3.3+ MB\n"
          ],
          "name": "stdout"
        }
      ]
    },
    {
      "cell_type": "markdown",
      "metadata": {
        "id": "W80KHfJsZnU2",
        "colab_type": "text"
      },
      "source": [
        "We see X_12  has some null value. Rest are non-null."
      ]
    },
    {
      "cell_type": "markdown",
      "metadata": {
        "id": "4FwmvBiRX_87",
        "colab_type": "text"
      },
      "source": [
        "###Insights: For e.g. Finding the Correlation among the variables to avoid redundancy of parameters later in our model.  "
      ]
    },
    {
      "cell_type": "code",
      "metadata": {
        "id": "zoJzDvZoT6OP",
        "colab_type": "code",
        "colab": {
          "base_uri": "https://localhost:8080/",
          "height": 614
        },
        "outputId": "a9c11e15-1767-4cc7-9b6e-526fabbb385c"
      },
      "source": [
        "corrmat = dataset_eda.corr(method='spearman')\n",
        "f, ax = plt.subplots(figsize=(12, 10))\n",
        "sns.heatmap(corrmat, ax=ax, cmap=\"YlGnBu\", linewidths=0.1)"
      ],
      "execution_count": 16,
      "outputs": [
        {
          "output_type": "execute_result",
          "data": {
            "text/plain": [
              "<matplotlib.axes._subplots.AxesSubplot at 0x7f3a63acb400>"
            ]
          },
          "metadata": {
            "tags": []
          },
          "execution_count": 16
        },
        {
          "output_type": "display_data",
          "data": {
            "image/png": "[encoded data removed]",
            "text/plain": [
              "<Figure size 864x720 with 2 Axes>"
            ]
          },
          "metadata": {
            "tags": [],
            "needs_background": "light"
          }
        }
      ]
    },
    {
      "cell_type": "code",
      "metadata": {
        "id": "B8O22CrjVztE",
        "colab_type": "code",
        "colab": {
          "base_uri": "https://localhost:8080/",
          "height": 748
        },
        "outputId": "f2f448fe-02af-4729-9bfa-3131c4e6897e"
      },
      "source": [
        "corrmat = dataset_eda.corr(method='spearman')\n",
        "cg = sns.clustermap(corrmat, cmap=\"YlGnBu\", linewidths=0.1);\n",
        "plt.setp(cg.ax_heatmap.yaxis.get_majorticklabels(), rotation=0)\n",
        "cg"
      ],
      "execution_count": 17,
      "outputs": [
        {
          "output_type": "execute_result",
          "data": {
            "text/plain": [
              "<seaborn.matrix.ClusterGrid at 0x7f3a63acb630>"
            ]
          },
          "metadata": {
            "tags": []
          },
          "execution_count": 17
        },
        {
          "output_type": "display_data",
          "data": {
            "image/png": "[encoded data removed]",
            "text/plain": [
              "<Figure size 720x720 with 4 Axes>"
            ]
          },
          "metadata": {
            "tags": [],
            "needs_background": "light"
          }
        }
      ]
    },
    {
      "cell_type": "markdown",
      "metadata": {
        "id": "valiE73yVUnE",
        "colab_type": "text"
      },
      "source": [
        "X2 , X3 **Very** highly Correlated\n",
        "\n",
        "X1 , X6 Correlated ~0.8 \n",
        "\n",
        "X1 , X7 Correlated ~0.8"
      ]
    },
    {
      "cell_type": "markdown",
      "metadata": {
        "id": "0MRC0e0KhQ0S",
        "colab_type": "text"
      },
      "source": [
        "## Decision Tree"
      ]
    },
    {
      "cell_type": "markdown",
      "metadata": {
        "id": "K1VMqkGvhc3-",
        "colab_type": "text"
      },
      "source": [
        "Importing the Dataset , Missing values fill with mean. "
      ]
    },
    {
      "cell_type": "code",
      "metadata": {
        "id": "M52QDmyzhh9s",
        "colab_type": "code",
        "colab": {
          "base_uri": "https://localhost:8080/",
          "height": 329
        },
        "outputId": "890ab7f4-dbf2-4dc8-f689-c94dc3dd70a2"
      },
      "source": [
        "dataset = pd.read_csv('Train.csv')\n",
        "dataset['DATE'] = pd.to_datetime(dataset['DATE'], format='%d-%b-%y')\n",
        "#Extracting month out of date which is assumed to be significant. \n",
        "dataset['DATE'] = dataset['DATE'].dt.month\n",
        "dataset.rename(columns={'DATE': 'MONTH'})\n",
        "dataset = dataset.drop(['INCIDENT_ID', 'X_2'], axis =1)\n",
        "\n",
        "\n",
        "X = dataset.iloc[:, :-1].values\n",
        "y = dataset.iloc[:, -1].values\n",
        "totalcol = len(dataset.columns)\n",
        "print(dataset.loc[0])\n"
      ],
      "execution_count": 35,
      "outputs": [
        {
          "output_type": "stream",
          "text": [
            "DATE                  7.0\n",
            "X_1                   0.0\n",
            "X_3                  34.0\n",
            "X_4                   2.0\n",
            "X_5                   1.0\n",
            "X_6                   5.0\n",
            "X_7                   6.0\n",
            "X_8                   1.0\n",
            "X_9                   6.0\n",
            "X_10                  1.0\n",
            "X_11                174.0\n",
            "X_12                  1.0\n",
            "X_13                 92.0\n",
            "X_14                 29.0\n",
            "X_15                 36.0\n",
            "MULTIPLE_OFFENSE      0.0\n",
            "Name: 0, dtype: float64\n"
          ],
          "name": "stdout"
        }
      ]
    },
    {
      "cell_type": "code",
      "metadata": {
        "id": "cw73jCvRjy3Q",
        "colab_type": "code",
        "colab": {
          "base_uri": "https://localhost:8080/",
          "height": 54
        },
        "outputId": "3d15dfeb-7ff2-4d39-f2ad-fd00a7ca5d4f"
      },
      "source": [
        "imputer = SimpleImputer(missing_values = np.nan, strategy = 'mean')\n",
        "imputer.fit(X[:, 1:totalcol])\n",
        "X[:, 1:totalcol]=imputer.transform(X[:, 1:totalcol])\n",
        "print(X[0])\n",
        "\n",
        "#print(dataset['INCIDENT_ID'].value_counts())"
      ],
      "execution_count": 36,
      "outputs": [
        {
          "output_type": "stream",
          "text": [
            "[  7.   0.  34.   2.   1.   5.   6.   1.   6.   1. 174.   1.  92.  29.\n",
            "  36.]\n"
          ],
          "name": "stdout"
        }
      ]
    },
    {
      "cell_type": "markdown",
      "metadata": {
        "id": "05HmGKhmpTUr",
        "colab_type": "text"
      },
      "source": [
        "### Encoding independent variable: Incident_Name\n"
      ]
    },
    {
      "cell_type": "code",
      "metadata": {
        "id": "Wt91V2MvpW6l",
        "colab_type": "code",
        "colab": {
          "base_uri": "https://localhost:8080/",
          "height": 54
        },
        "outputId": "76fb1363-d82c-46c9-b25a-f06f9a6945fe"
      },
      "source": [
        "le = LabelEncoder()\n",
        "X[:, 0] = le.fit_transform(X[: , 0])\n",
        "print (X[0])"
      ],
      "execution_count": 37,
      "outputs": [
        {
          "output_type": "stream",
          "text": [
            "[  6.   0.  34.   2.   1.   5.   6.   1.   6.   1. 174.   1.  92.  29.\n",
            "  36.]\n"
          ],
          "name": "stdout"
        }
      ]
    },
    {
      "cell_type": "markdown",
      "metadata": {
        "id": "YvxIPVyMhmKp",
        "colab_type": "text"
      },
      "source": [
        "## Splitting the dataset into the Training set and Test set"
      ]
    },
    {
      "cell_type": "code",
      "metadata": {
        "id": "AVzJWAXIhxoC",
        "colab_type": "code",
        "colab": {}
      },
      "source": [
        "\n",
        "X_train, X_test, y_train, y_test = train_test_split(X, y, test_size = 0.25, random_state = 0)"
      ],
      "execution_count": 38,
      "outputs": []
    },
    {
      "cell_type": "code",
      "metadata": {
        "id": "P3nS3-6r1i2B",
        "colab_type": "code",
        "colab": {
          "base_uri": "https://localhost:8080/",
          "height": 146
        },
        "outputId": "158dbbcb-2311-4f9d-c78c-4f5811422868"
      },
      "source": [
        "print(X_train)"
      ],
      "execution_count": 39,
      "outputs": [
        {
          "output_type": "stream",
          "text": [
            "[[  6.   0.  15. ... 103.  62.  34.]\n",
            " [  2.   0.  23. ... 103.  29.  34.]\n",
            " [  4.   0.  23. ... 103.  29.  34.]\n",
            " ...\n",
            " [  5.   0.  49. ...  98.  80.  34.]\n",
            " [  5.   0.  32. ...  48.  87.  34.]\n",
            " [  3.   0.   6. ...  72. 130.  34.]]\n"
          ],
          "name": "stdout"
        }
      ]
    },
    {
      "cell_type": "code",
      "metadata": {
        "id": "8dpDLojm1mVG",
        "colab_type": "code",
        "colab": {
          "base_uri": "https://localhost:8080/",
          "height": 35
        },
        "outputId": "99c5a462-4500-4c1c-bc61-0909ab9c31f0"
      },
      "source": [
        "print(y_train)"
      ],
      "execution_count": null,
      "outputs": [
        {
          "output_type": "stream",
          "text": [
            "[1 1 1 ... 1 1 1]\n"
          ],
          "name": "stdout"
        }
      ]
    },
    {
      "cell_type": "code",
      "metadata": {
        "id": "qbb7i0DH1qui",
        "colab_type": "code",
        "colab": {
          "base_uri": "https://localhost:8080/",
          "height": 144
        },
        "outputId": "77e22bda-eaef-412a-958b-030877e10af7"
      },
      "source": [
        "print(X_test)"
      ],
      "execution_count": null,
      "outputs": [
        {
          "output_type": "stream",
          "text": [
            "[[  4.   0.  40. ...  72.  29.  34.]\n",
            " [  0.   0.  16. ... 103.  93.  34.]\n",
            " [  3.   0.  45. ... 112. 142.  34.]\n",
            " ...\n",
            " [  5.   0.   4. ...  72.  29.  34.]\n",
            " [  6.   0.  49. ... 103.  62.  34.]\n",
            " [  8.   1.  39. ... 103. 124.  34.]]\n"
          ],
          "name": "stdout"
        }
      ]
    },
    {
      "cell_type": "code",
      "metadata": {
        "id": "kj1hnFAR1s5w",
        "colab_type": "code",
        "colab": {
          "base_uri": "https://localhost:8080/",
          "height": 35
        },
        "outputId": "6aae8aad-0967-4be0-8dc2-2ab35d9dcbbd"
      },
      "source": [
        "print(y_test)"
      ],
      "execution_count": null,
      "outputs": [
        {
          "output_type": "stream",
          "text": [
            "[1 1 1 ... 0 1 1]\n"
          ],
          "name": "stdout"
        }
      ]
    },
    {
      "cell_type": "markdown",
      "metadata": {
        "id": "kW3c7UYih0hT",
        "colab_type": "text"
      },
      "source": [
        "## Feature Scaling"
      ]
    },
    {
      "cell_type": "markdown",
      "metadata": {
        "id": "MtbO_wniLMYI",
        "colab_type": "text"
      },
      "source": [
        "How to not apply standard scalar to Company code and month. I.e first and second column. "
      ]
    },
    {
      "cell_type": "code",
      "metadata": {
        "id": "9fQlDPKCh8sc",
        "colab_type": "code",
        "colab": {}
      },
      "source": [
        "sc = StandardScaler()\n",
        "X_train = sc.fit_transform(X_train)\n",
        "X_test = sc.transform(X_test)"
      ],
      "execution_count": 40,
      "outputs": []
    },
    {
      "cell_type": "code",
      "metadata": {
        "id": "syrnD1Op2BSR",
        "colab_type": "code",
        "colab": {
          "base_uri": "https://localhost:8080/",
          "height": 256
        },
        "outputId": "da03efa7-53ff-4486-8bf6-5d0640018266"
      },
      "source": [
        "print(X_train)"
      ],
      "execution_count": 45,
      "outputs": [
        {
          "output_type": "stream",
          "text": [
            "[[ 0.15222033 -0.33471892 -0.58044076 ...  0.64316748 -0.25172888\n",
            "   0.0614792 ]\n",
            " [-1.06459022 -0.33471892 -0.25328457 ...  0.64316748 -1.0137532\n",
            "   0.0614792 ]\n",
            " [-0.45618494 -0.33471892 -0.25328457 ...  0.64316748 -1.0137532\n",
            "   0.0614792 ]\n",
            " ...\n",
            " [-0.1519823  -0.33471892  1.5787901  ...  0.46156753  0.16392074\n",
            "   0.0614792 ]\n",
            " [-0.1519823  -0.33471892  0.53189029 ... -1.35443188  0.32556227\n",
            "   0.0614792 ]\n",
            " [-0.76038758 -0.33471892 -1.23475315 ... -0.48275216  1.31850304\n",
            "   0.0614792 ]]\n"
          ],
          "name": "stdout"
        }
      ]
    },
    {
      "cell_type": "code",
      "metadata": {
        "id": "JUd6iBRp2C3L",
        "colab_type": "code",
        "colab": {
          "base_uri": "https://localhost:8080/",
          "height": 254
        },
        "outputId": "3a6dbac4-665a-43f1-b248-acdcddada0e0"
      },
      "source": [
        "print(X_test)"
      ],
      "execution_count": null,
      "outputs": [
        {
          "output_type": "stream",
          "text": [
            "[[-0.45618494 -0.33471892  0.98990895 ... -0.48275216 -1.0137532\n",
            "   0.0614792 ]\n",
            " [-1.67299549 -0.33471892 -0.58044076 ...  0.64316748  0.46411214\n",
            "   0.0614792 ]\n",
            " [-0.76038758 -0.33471892  1.31706515 ...  0.97004737  1.59560279\n",
            "   0.0614792 ]\n",
            " ...\n",
            " [-0.1519823  -0.33471892 -1.36561562 ... -0.48275216 -1.0137532\n",
            "   0.0614792 ]\n",
            " [ 0.15222033 -0.33471892  1.5787901  ...  0.64316748 -0.25172888\n",
            "   0.0614792 ]\n",
            " [ 0.76062561  0.35955315  0.92447772 ...  0.64316748  1.17995316\n",
            "   0.0614792 ]]\n"
          ],
          "name": "stdout"
        }
      ]
    },
    {
      "cell_type": "markdown",
      "metadata": {
        "id": "bb6jCOCQiAmP",
        "colab_type": "text"
      },
      "source": [
        "## Training the Decision Tree model on the Training set"
      ]
    },
    {
      "cell_type": "code",
      "metadata": {
        "id": "BI4nRK9dqpb6",
        "colab_type": "code",
        "colab": {
          "base_uri": "https://localhost:8080/",
          "height": 356
        },
        "outputId": "a71aa0bb-e3c5-4d8a-918f-d979c270e419"
      },
      "source": [
        "\n",
        "#from sklearn.tree import DecisionTreeClassifier\n",
        "#from sklearn.model_selection import cross_val_score\n",
        "#import numpy as np\n",
        "#import matplotlib.pyplot as plt\n",
        "\n",
        "# function for fitting trees of various depths on the training data using cross-validation\n",
        "def run_cross_validation_on_trees(X, y, tree_depths, cv=5, scoring='accuracy'):\n",
        "    cv_scores_list = []\n",
        "    cv_scores_std = []\n",
        "    cv_scores_mean = []\n",
        "    accuracy_scores = []\n",
        "    for depth in tree_depths:\n",
        "        tree_model = DecisionTreeClassifier(max_depth=depth)\n",
        "        cv_scores = cross_val_score(tree_model, X, y, cv=cv, scoring=scoring)\n",
        "        cv_scores_list.append(cv_scores)\n",
        "        cv_scores_mean.append(cv_scores.mean())\n",
        "        cv_scores_std.append(cv_scores.std())\n",
        "        accuracy_scores.append(tree_model.fit(X, y).score(X, y))\n",
        "    cv_scores_mean = np.array(cv_scores_mean)\n",
        "    cv_scores_std = np.array(cv_scores_std)\n",
        "    accuracy_scores = np.array(accuracy_scores)\n",
        "    return cv_scores_mean, cv_scores_std, accuracy_scores\n",
        "  \n",
        "# function for plotting cross-validation results\n",
        "def plot_cross_validation_on_trees(depths, cv_scores_mean, cv_scores_std, accuracy_scores, title):\n",
        "    fig, ax = plt.subplots(1,1, figsize=(15,5))\n",
        "    ax.plot(depths, cv_scores_mean, '-o', label='mean cross-validation accuracy', alpha=0.9)\n",
        "    ax.fill_between(depths, cv_scores_mean-2*cv_scores_std, cv_scores_mean+2*cv_scores_std, alpha=0.2)\n",
        "    ylim = plt.ylim()\n",
        "    ax.plot(depths, accuracy_scores, '-*', label='train accuracy', alpha=0.9)\n",
        "    ax.set_title(title, fontsize=16)\n",
        "    ax.set_xlabel('Tree depth', fontsize=14)\n",
        "    ax.set_ylabel('Accuracy', fontsize=14)\n",
        "    ax.set_ylim(ylim)\n",
        "    ax.set_xticks(depths)\n",
        "    ax.legend()\n",
        "\n",
        "# fitting trees of depth 1 to 24\n",
        "sm_tree_depths = range(1,25)\n",
        "sm_cv_scores_mean, sm_cv_scores_std, sm_accuracy_scores = run_cross_validation_on_trees(X_train, y_train, sm_tree_depths)\n",
        "\n",
        "# plotting accuracy\n",
        "plot_cross_validation_on_trees(sm_tree_depths, sm_cv_scores_mean, sm_cv_scores_std, sm_accuracy_scores, \n",
        "                               'Accuracy per decision tree depth on training data')"
      ],
      "execution_count": 47,
      "outputs": [
        {
          "output_type": "display_data",
          "data": {
            "image/png": "[encoded data removed]",
            "text/plain": [
              "<Figure size 1080x360 with 1 Axes>"
            ]
          },
          "metadata": {
            "tags": [],
            "needs_background": "light"
          }
        }
      ]
    },
    {
      "cell_type": "code",
      "metadata": {
        "id": "EcxkG0f-tlyL",
        "colab_type": "code",
        "colab": {
          "base_uri": "https://localhost:8080/",
          "height": 35
        },
        "outputId": "7c6ab7e7-11f2-47ae-d1dd-63ca7467b345"
      },
      "source": [
        "idx_max = sm_cv_scores_mean.argmax()\n",
        "sm_best_tree_depth = sm_tree_depths[idx_max]\n",
        "sm_best_tree_cv_score = sm_cv_scores_mean[idx_max]\n",
        "sm_best_tree_cv_score_std = sm_cv_scores_std[idx_max]\n",
        "print('The depth-{} tree achieves the best mean cross-validation accuracy {} +/- {}% on training dataset'.format(\n",
        "      sm_best_tree_depth, round(sm_best_tree_cv_score*100,5), round(sm_best_tree_cv_score_std*100, 5)))"
      ],
      "execution_count": 48,
      "outputs": [
        {
          "output_type": "stream",
          "text": [
            "The depth-11 tree achieves the best mean cross-validation accuracy 99.78202 +/- 0.05701% on training dataset\n"
          ],
          "name": "stdout"
        }
      ]
    },
    {
      "cell_type": "code",
      "metadata": {
        "id": "AQQPrw3yvyqw",
        "colab_type": "code",
        "colab": {
          "base_uri": "https://localhost:8080/",
          "height": 219
        },
        "outputId": "a5de67b8-9d7c-4f8b-bc4d-55a002a94e13"
      },
      "source": [
        "def run_single_tree(X_train, y_train, X_test, y_test, depth):\n",
        "    model = DecisionTreeClassifier(max_depth=depth).fit(X_train, y_train)\n",
        "    accuracy_train = model.score(X_train, y_train)\n",
        "    accuracy_test = model.score(X_test, y_test)\n",
        "    print('Single tree depth: ', depth)\n",
        "    print('Accuracy, Training Set: ', round(accuracy_train*100,5), '%')\n",
        "    print('Accuracy, Test Set: ', round(accuracy_test*100,5), '%')\n",
        "    y_pred = model.predict(X_test)\n",
        "    comparision = np.concatenate((y_pred.reshape(len(y_pred),1), y_test.reshape(len(y_test),1)),1)\n",
        "    print('Comparision of Predicted and Actual test values')\n",
        "    print(comparision)\n",
        "    return accuracy_train, accuracy_test, comparision\n",
        "\n",
        "  \n",
        "\n",
        "# train and evaluate a best-depth tree\n",
        "sm_best_tree_accuracy_train, sm_best_tree_accuracy_test, comparision = run_single_tree(X_train, y_train, \n",
        "                                                                          X_test, y_test, \n",
        "                                                                          sm_best_tree_depth)"
      ],
      "execution_count": 51,
      "outputs": [
        {
          "output_type": "stream",
          "text": [
            "Single tree depth:  11\n",
            "Accuracy, Training Set:  99.97764 %\n",
            "Accuracy, Test Set:  99.74849 %\n",
            "Comparision of Predicted and Actual test values\n",
            "[[1 1]\n",
            " [1 1]\n",
            " [1 1]\n",
            " ...\n",
            " [0 0]\n",
            " [1 1]\n",
            " [1 1]]\n"
          ],
          "name": "stdout"
        }
      ]
    },
    {
      "cell_type": "markdown",
      "metadata": {
        "id": "h4Hwj34ziWQW",
        "colab_type": "text"
      },
      "source": [
        "## Making the Confusion Matrix"
      ]
    },
    {
      "cell_type": "code",
      "metadata": {
        "id": "D6bpZwUiiXic",
        "colab_type": "code",
        "colab": {
          "base_uri": "https://localhost:8080/",
          "height": 72
        },
        "outputId": "4dcc8195-b51c-4c82-ca03-54e6682e6962"
      },
      "source": [
        "model = DecisionTreeClassifier(max_depth=13).fit(X_train, y_train)\n",
        "y_pred = model.predict(X_test)\n",
        "cm = confusion_matrix(y_test, y_pred)\n",
        "print(cm)\n",
        "accuracy_score(y_test, y_pred)"
      ],
      "execution_count": 63,
      "outputs": [
        {
          "output_type": "stream",
          "text": [
            "[[ 260    8]\n",
            " [   7 5689]]\n"
          ],
          "name": "stdout"
        },
        {
          "output_type": "execute_result",
          "data": {
            "text/plain": [
              "0.9974849094567404"
            ]
          },
          "metadata": {
            "tags": []
          },
          "execution_count": 63
        }
      ]
    },
    {
      "cell_type": "code",
      "metadata": {
        "id": "lUzJvwIZhU6B",
        "colab_type": "code",
        "colab": {
          "base_uri": "https://localhost:8080/",
          "height": 35
        },
        "outputId": "7877b5f1-6871-402d-c998-c01897059dfb"
      },
      "source": [
        "from sklearn.metrics import recall_score\n",
        "recall_score(y_test, y_pred, average='macro')"
      ],
      "execution_count": 64,
      "outputs": [
        {
          "output_type": "execute_result",
          "data": {
            "text/plain": [
              "0.9844601605735368"
            ]
          },
          "metadata": {
            "tags": []
          },
          "execution_count": 64
        }
      ]
    },
    {
      "cell_type": "markdown",
      "metadata": {
        "id": "V7lsu3RZjmHC",
        "colab_type": "text"
      },
      "source": [
        "Our Recall Score is 98.45% based on Decision Tree Classifier Model. \n",
        "\n",
        "Other Model in the same manner were performing poor as compared to Decision Tree, therefore for this project we will stick to decision tree to predict the values for data in test file. "
      ]
    },
    {
      "cell_type": "markdown",
      "metadata": {
        "id": "HFxRCwtL0ykt",
        "colab_type": "text"
      },
      "source": [
        "## Making Prediction on Test CSV "
      ]
    },
    {
      "cell_type": "code",
      "metadata": {
        "id": "cgZ2Wt0C04-W",
        "colab_type": "code",
        "colab": {
          "base_uri": "https://localhost:8080/",
          "height": 458
        },
        "outputId": "cf17361c-e57f-473d-d41a-56d3fa037db3"
      },
      "source": [
        "testset = pd.read_csv('Test.csv')\n",
        "mergeondataset = pd.read_csv('Test.csv')\n",
        "testset['DATE'] = pd.to_datetime(testset['DATE'], format='%d-%b-%y')\n",
        "testset['DATE'] = testset['DATE'].dt.month\n",
        "testset.rename(columns={'DATE': 'MONTH'})\n",
        "testset = testset.drop(['INCIDENT_ID', 'X_2'], axis =1)\n",
        "X_testfile = testset.iloc[:, :].values\n",
        "print(testset.loc[0])\n",
        "print(\"Below is our Numpy array carrying first row carrying nan values\")\n",
        "print(X_testfile[0])\n",
        "\n",
        "## Filling missing values and applying feature Scaling\n",
        "\n",
        "imputer.fit(X_test[:, 1:totalcol -1 ])\n",
        "X_testfile[:, 1:totalcol -1 ]=imputer.transform(X_testfile[:, 1:totalcol -1 ])\n",
        "print(\"Below is our Numpy array carrying first row. Nan values removed\")\n",
        "print(X_testfile[0])\n",
        "\n",
        "#Standard Scalar\n",
        "X_testfile = sc.fit_transform(X_testfile)\n"
      ],
      "execution_count": 66,
      "outputs": [
        {
          "output_type": "stream",
          "text": [
            "DATE      2.0\n",
            "X_1       0.0\n",
            "X_3      35.0\n",
            "X_4       7.0\n",
            "X_5       3.0\n",
            "X_6       6.0\n",
            "X_7       4.0\n",
            "X_8       0.0\n",
            "X_9       5.0\n",
            "X_10      1.0\n",
            "X_11    174.0\n",
            "X_12      NaN\n",
            "X_13     72.0\n",
            "X_14    119.0\n",
            "X_15     23.0\n",
            "Name: 0, dtype: float64\n",
            "Below is our Numpy array carrying first row carrying nan values\n",
            "[  2.   0.  35.   7.   3.   6.   4.   0.   5.   1. 174.  nan  72. 119.\n",
            "  23.]\n",
            "Below is our Numpy array carrying first row. Nan values removed\n",
            "[2.00000000e+00 0.00000000e+00 3.50000000e+01 7.00000000e+00\n",
            " 3.00000000e+00 6.00000000e+00 4.00000000e+00 0.00000000e+00\n",
            " 5.00000000e+00 1.00000000e+00 1.74000000e+02 2.32569251e-02\n",
            " 7.20000000e+01 1.19000000e+02 2.30000000e+01]\n"
          ],
          "name": "stdout"
        }
      ]
    },
    {
      "cell_type": "markdown",
      "metadata": {
        "id": "f1VB9EqFMClz",
        "colab_type": "text"
      },
      "source": [
        "###Predicted Multiple Offence values for test data."
      ]
    },
    {
      "cell_type": "code",
      "metadata": {
        "id": "7SN2r4oGMBy3",
        "colab_type": "code",
        "colab": {
          "base_uri": "https://localhost:8080/",
          "height": 293
        },
        "outputId": "546d836d-6823-4ebf-ed40-465f7f71cb7a"
      },
      "source": [
        "model = DecisionTreeClassifier(max_depth=sm_best_tree_depth).fit(X_train, y_train)\n",
        "predictedvalues =  model.predict(X_testfile)\n",
        "print(predictedvalues[:30])\n",
        "INCIDENT_ID =  mergeondataset['INCIDENT_ID']\n",
        "print(type(INCIDENT_ID.to_numpy()))\n",
        "print(type(predictedvalues))\n",
        "data = {'INCIDENT_ID':INCIDENT_ID, 'MULTIPLE_OFFENSE': predictedvalues}\n",
        "numpy_data = np.array([mergeondataset['INCIDENT_ID'], predictedvalues])\n",
        "submission = pd.DataFrame(data)\n",
        "\n",
        "submission = submission.set_index('INCIDENT_ID')\n",
        "print(submission.head())\n",
        "submission.to_csv('Novartispredicted.csv')\n",
        "\n",
        "print('\\n\\n\\n\\nProject End. Submission by: Aditya_Yadav ')\n",
        "  "
      ],
      "execution_count": 77,
      "outputs": [
        {
          "output_type": "stream",
          "text": [
            "[1 1 1 1 1 1 1 1 1 1 1 1 1 1 1 1 1 1 0 1 1 1 1 1 1 1 1 1 1 1]\n",
            "<class 'numpy.ndarray'>\n",
            "<class 'numpy.ndarray'>\n",
            "             MULTIPLE_OFFENSE\n",
            "INCIDENT_ID                  \n",
            "CR_195453                   1\n",
            "CR_103520                   1\n",
            "CR_196089                   1\n",
            "CR_112195                   1\n",
            "CR_149832                   1\n",
            "\n",
            "\n",
            "\n",
            "\n",
            "Project End. Submission by: Aditya_Yadav \n"
          ],
          "name": "stdout"
        }
      ]
    }
  ]
}